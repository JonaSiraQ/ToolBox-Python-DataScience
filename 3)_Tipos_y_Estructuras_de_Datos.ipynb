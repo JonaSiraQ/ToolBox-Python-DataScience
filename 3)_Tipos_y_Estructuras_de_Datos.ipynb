{
  "nbformat": 4,
  "nbformat_minor": 0,
  "metadata": {
    "colab": {
      "provenance": [],
      "collapsed_sections": [
        "BrmXOtkDhdj6",
        "AT5JGnzdhdQ3",
        "lfQerHyEhdGm"
      ],
      "include_colab_link": true
    },
    "kernelspec": {
      "name": "python3",
      "display_name": "Python 3"
    }
  },
  "cells": [
    {
      "cell_type": "markdown",
      "metadata": {
        "id": "view-in-github",
        "colab_type": "text"
      },
      "source": [
        "<a href=\"https://colab.research.google.com/github/JonaSiraQ/ToolBox-Python-DataScience/blob/main/3)_Tipos_y_Estructuras_de_Datos.ipynb\" target=\"_parent\"><img src=\"https://colab.research.google.com/assets/colab-badge.svg\" alt=\"Open In Colab\"/></a>"
      ]
    },
    {
      "cell_type": "markdown",
      "source": [
        "<div style=\"text-align: center\"><img src=\"https://www.python.org/static/img/python-logo.png\"></div>"
      ],
      "metadata": {
        "id": "nmUpVrO5gNt3"
      }
    },
    {
      "cell_type": "markdown",
      "metadata": {
        "id": "K1GZdTu_qma5",
        "colab_type": "toc"
      },
      "source": [
        ">[TIPOS DE DATOS](#scrollTo=AHONY2VzigaP)\n",
        "\n",
        ">>[3.1.1) Números:](#scrollTo=vHq20Z7-hdtT)\n",
        "\n",
        ">>[3.1.2) Strings (cadenas de caracteres):](#scrollTo=BrmXOtkDhdj6)\n",
        "\n",
        ">[ESTRUCTURAS DE DATOS](#scrollTo=7XUwWspAhdaa)\n",
        "\n",
        ">>[3.2.1) Listas:](#scrollTo=AT5JGnzdhdQ3)\n",
        "\n",
        ">>[3.2.2) Tuplas:](#scrollTo=lfQerHyEhdGm)\n",
        "\n",
        ">>[3.2.3) Diccionarios:](#scrollTo=QkdK05hMhc85)\n",
        "\n",
        ">>[3.2.4) Sets:](#scrollTo=XUlnQRug6I8W)\n",
        "\n"
      ]
    },
    {
      "cell_type": "markdown",
      "metadata": {
        "id": "AHONY2VzigaP"
      },
      "source": [
        "# TIPOS DE DATOS\n",
        "\n",
        "Exploremos números, cadenas, y listas. Particularmente las listas serán de utilidad para el manejo de datos que veremos en los siguientes ejercicios."
      ]
    },
    {
      "cell_type": "markdown",
      "source": [
        "## 3.1.1) Números:\n",
        "\n",
        "A diferencia de lenguajes compilados como Java o C, Python utiliza un interprete para poder leer las sentencias y ejecutar el programa.\n",
        "Que significa eso? que podemos dialogar directamente con Python sin necesidad de pasar por complejos procesos de desarrollo y compilación de programas para poder realizar pruebas.\n",
        "\n",
        "Los operadores que utilizaremos son los ampliamente conocidos, como `+`, `-`, y `/`. Algo a recordar es que los (`()`) se utilizan para agrupar y ordenar el orden de precedencia. No es lo mismo `(1+2)*3` que `1+(2*3)`\n",
        "Ejemplo:"
      ],
      "metadata": {
        "id": "vHq20Z7-hdtT"
      }
    },
    {
      "cell_type": "code",
      "source": [
        "2 + 2"
      ],
      "metadata": {
        "colab": {
          "base_uri": "https://localhost:8080/"
        },
        "id": "q8PyC8mciwya",
        "outputId": "0b659a43-289e-4caf-d9d3-e9f2a4930ff7"
      },
      "execution_count": null,
      "outputs": [
        {
          "output_type": "execute_result",
          "data": {
            "text/plain": [
              "4"
            ]
          },
          "metadata": {},
          "execution_count": 1
        }
      ]
    },
    {
      "cell_type": "code",
      "source": [
        "50 - 5*6"
      ],
      "metadata": {
        "id": "U5zOGuJi7ES2"
      },
      "execution_count": null,
      "outputs": []
    },
    {
      "cell_type": "code",
      "source": [
        "(50 - 5*6) / 4"
      ],
      "metadata": {
        "id": "xmenDmBZ7EF2"
      },
      "execution_count": null,
      "outputs": []
    },
    {
      "cell_type": "markdown",
      "source": [],
      "metadata": {
        "id": "rpX4UEgf7QjD"
      }
    },
    {
      "cell_type": "code",
      "source": [],
      "metadata": {
        "id": "ZPbBW1__7Mxj"
      },
      "execution_count": null,
      "outputs": []
    },
    {
      "cell_type": "markdown",
      "source": [],
      "metadata": {
        "id": "d4fjQ_g47T9G"
      }
    },
    {
      "cell_type": "code",
      "source": [],
      "metadata": {
        "id": "y137h9Nh7Mls"
      },
      "execution_count": null,
      "outputs": []
    },
    {
      "cell_type": "code",
      "source": [],
      "metadata": {
        "id": "QW34gjaK7Ma0"
      },
      "execution_count": null,
      "outputs": []
    },
    {
      "cell_type": "code",
      "source": [],
      "metadata": {
        "id": "QfzEyd3J7Vij"
      },
      "execution_count": null,
      "outputs": []
    },
    {
      "cell_type": "markdown",
      "source": [],
      "metadata": {
        "id": "aAF5H-kQ7L5X"
      }
    },
    {
      "cell_type": "code",
      "source": [],
      "metadata": {
        "id": "JPMRNhHJ7Ll6"
      },
      "execution_count": null,
      "outputs": []
    },
    {
      "cell_type": "code",
      "source": [],
      "metadata": {
        "id": "bNFyVNlD7XfU"
      },
      "execution_count": null,
      "outputs": []
    },
    {
      "cell_type": "markdown",
      "source": [],
      "metadata": {
        "id": "18EJty-87LRh"
      }
    },
    {
      "cell_type": "code",
      "source": [],
      "metadata": {
        "id": "r2cCTNJo7Z_q"
      },
      "execution_count": null,
      "outputs": []
    },
    {
      "cell_type": "code",
      "source": [],
      "metadata": {
        "id": "5KfDxNh_7ZyC"
      },
      "execution_count": null,
      "outputs": []
    },
    {
      "cell_type": "markdown",
      "source": [],
      "metadata": {
        "id": "2WL3m3zJ7dsO"
      }
    },
    {
      "cell_type": "code",
      "source": [],
      "metadata": {
        "id": "1fvO35XW7e3A"
      },
      "execution_count": null,
      "outputs": []
    },
    {
      "cell_type": "code",
      "source": [],
      "metadata": {
        "id": "JyNv6bOu7fXg"
      },
      "execution_count": null,
      "outputs": []
    },
    {
      "cell_type": "code",
      "source": [],
      "metadata": {
        "id": "_C942d3P7fpk"
      },
      "execution_count": null,
      "outputs": []
    },
    {
      "cell_type": "code",
      "source": [],
      "metadata": {
        "id": "wgtRsX8F7f6a"
      },
      "execution_count": null,
      "outputs": []
    },
    {
      "cell_type": "markdown",
      "source": [],
      "metadata": {
        "id": "XB5sx-V37i7Y"
      }
    },
    {
      "cell_type": "code",
      "source": [],
      "metadata": {
        "id": "njf3QmGP7kJS"
      },
      "execution_count": null,
      "outputs": []
    },
    {
      "cell_type": "markdown",
      "source": [],
      "metadata": {
        "id": "-ZTYzI777kmw"
      }
    },
    {
      "cell_type": "code",
      "source": [],
      "metadata": {
        "id": "FkLXhQV97lFO"
      },
      "execution_count": null,
      "outputs": []
    },
    {
      "cell_type": "markdown",
      "source": [],
      "metadata": {
        "id": "Gf_WGmvA7nci"
      }
    },
    {
      "cell_type": "code",
      "source": [],
      "metadata": {
        "id": "heaWLWGe7n6v"
      },
      "execution_count": null,
      "outputs": []
    },
    {
      "cell_type": "code",
      "source": [],
      "metadata": {
        "id": "IyXHjcTy7oyx"
      },
      "execution_count": null,
      "outputs": []
    },
    {
      "cell_type": "code",
      "source": [],
      "metadata": {
        "id": "WBLGX_La7oft"
      },
      "execution_count": null,
      "outputs": []
    },
    {
      "cell_type": "markdown",
      "source": [],
      "metadata": {
        "id": "KqbEImX17axY"
      }
    },
    {
      "cell_type": "markdown",
      "source": [
        "## 3.1.2) Strings (cadenas de caracteres):\n",
        "\n",
        "Hay formas cortas de asignar valores a las variables. \n",
        "Tener en cuenta que 1 signo = no hace lo mismo que 2 signos ==."
      ],
      "metadata": {
        "id": "BrmXOtkDhdj6"
      }
    },
    {
      "cell_type": "code",
      "source": [
        "a = 1\n",
        "b = 1\n",
        "c = 4\n",
        "d = 2\n",
        "e = 12\n",
        "f = 5\n",
        "g = 2\n",
        "h = 15\n",
        "\n",
        "a = 5     # Asignación de valor \n",
        "b += 2\n",
        "c -= 3\n",
        "d *= 3\n",
        "e /= 3    # Retorna un valor de tipo float, por más que el resultado sea un int.\n",
        "f %= 2    # Módulo: es el resto de la de división.\n",
        "g **= 5   # Potencia\n",
        "h //= 2   # División entera: retorna un int y redondea el resultado hacia abajo.\n",
        "\n",
        "print('Asignación:', a)\n",
        "print('Suma:', b)\n",
        "print('Resta:', c)\n",
        "print('Multiplicación:', d)\n",
        "print('División decimal:', e)\n",
        "print('Módulo:', f)\n",
        "print('Potencia:', g)\n",
        "print('División entera:', h)"
      ],
      "metadata": {
        "id": "zr5JKLDwmbxo",
        "colab": {
          "base_uri": "https://localhost:8080/"
        },
        "outputId": "6f2fd0d2-4bfb-4920-af41-686fe33f52e5"
      },
      "execution_count": null,
      "outputs": [
        {
          "output_type": "stream",
          "name": "stdout",
          "text": [
            "Asignación: 5\n",
            "Suma: 3\n",
            "Resta: 1\n",
            "Multiplicación: 6\n",
            "División decimal: 4.0\n",
            "Módulo: 1\n",
            "Potencia: 32\n",
            "División entera: 7\n"
          ]
        }
      ]
    },
    {
      "cell_type": "markdown",
      "source": [
        "# ESTRUCTURAS DE DATOS\n",
        "\n",
        "Todas estas comparaciones retornan valores de tipo **BOOLEAN**: **True** o **False**."
      ],
      "metadata": {
        "id": "7XUwWspAhdaa"
      }
    },
    {
      "cell_type": "markdown",
      "source": [],
      "metadata": {
        "id": "NokpY6Yy53dm"
      }
    },
    {
      "cell_type": "markdown",
      "source": [
        "## 3.2.1) Listas:\n",
        "\n",
        "Todas estas comparaciones retornan valores de tipo **BOOLEAN**: **True** o **False**."
      ],
      "metadata": {
        "id": "AT5JGnzdhdQ3"
      }
    },
    {
      "cell_type": "markdown",
      "source": [
        "a) and / &: son **Verdaderos** si TODAS las variables son True."
      ],
      "metadata": {
        "id": "7STYGSpZLw_r"
      }
    },
    {
      "cell_type": "code",
      "source": [
        "x = True\n",
        "y = True\n",
        "\n",
        "if ((x == True) and (y == True)):\n",
        "  print('Verdadero')\n",
        "\n",
        "if ((x == True) & (y == True)):\n",
        "  print('Verdadero')"
      ],
      "metadata": {
        "colab": {
          "base_uri": "https://localhost:8080/"
        },
        "id": "JyD0A5m7Kan4",
        "outputId": "24bc96a8-3c82-4701-cffb-2c09bb55389d"
      },
      "execution_count": null,
      "outputs": [
        {
          "output_type": "stream",
          "name": "stdout",
          "text": [
            "Verdadero\n",
            "Verdadero\n"
          ]
        }
      ]
    },
    {
      "cell_type": "markdown",
      "source": [
        "b) or / |: son **Verdaderos** si UNA de las variables es True."
      ],
      "metadata": {
        "id": "zh8y3GC2Moip"
      }
    },
    {
      "cell_type": "code",
      "source": [
        "x = True\n",
        "y = False\n",
        "\n",
        "if ((x == True) or (y == True)):\n",
        "  print('Verdadero')\n",
        "\n",
        "if ((x == True) | (y == True)):\n",
        "  print('Verdadero')"
      ],
      "metadata": {
        "colab": {
          "base_uri": "https://localhost:8080/"
        },
        "id": "TJdE3cj8Mpno",
        "outputId": "6d4be3d4-e716-45c0-f892-e79185e2125a"
      },
      "execution_count": null,
      "outputs": [
        {
          "output_type": "stream",
          "name": "stdout",
          "text": [
            "Verdadero\n",
            "Verdadero\n"
          ]
        }
      ]
    },
    {
      "cell_type": "markdown",
      "source": [
        "c) not / ~: son **Verdaderos** si UNA de las variables es True."
      ],
      "metadata": {
        "id": "INdi2lIHMqEi"
      }
    },
    {
      "cell_type": "code",
      "source": [
        "x = False\n",
        "\n",
        "if not x:\n",
        "  print('Verdadero')\n",
        "\n",
        "if ~ x:\n",
        "  print('Verdadero')"
      ],
      "metadata": {
        "colab": {
          "base_uri": "https://localhost:8080/"
        },
        "id": "-MXd-S9sMqjF",
        "outputId": "349f7e99-e6de-4121-83e8-1cc9eb5cba34"
      },
      "execution_count": null,
      "outputs": [
        {
          "output_type": "stream",
          "name": "stdout",
          "text": [
            "Verdadero\n",
            "Verdadero\n"
          ]
        }
      ]
    },
    {
      "cell_type": "markdown",
      "source": [
        "## 3.2.2) Tuplas:\n",
        "\n",
        "************* FALTA DEFINICION ****************\n",
        "Todas estas comparaciones retornan valores de tipo **BOOLEAN**: **True** o **False**."
      ],
      "metadata": {
        "id": "lfQerHyEhdGm"
      }
    },
    {
      "cell_type": "code",
      "source": [],
      "metadata": {
        "id": "hXl1zQKxOOhv"
      },
      "execution_count": null,
      "outputs": []
    },
    {
      "cell_type": "markdown",
      "source": [
        "## 3.2.3) Diccionarios:"
      ],
      "metadata": {
        "id": "QkdK05hMhc85"
      }
    },
    {
      "cell_type": "markdown",
      "source": [],
      "metadata": {
        "id": "2TYp4WBfhc36"
      }
    },
    {
      "cell_type": "markdown",
      "source": [],
      "metadata": {
        "id": "4zunoQTmhctJ"
      }
    },
    {
      "cell_type": "markdown",
      "source": [],
      "metadata": {
        "id": "Qn8sBhNn6EL4"
      }
    },
    {
      "cell_type": "markdown",
      "source": [
        "## 3.2.4) Sets:"
      ],
      "metadata": {
        "id": "XUlnQRug6I8W"
      }
    },
    {
      "cell_type": "markdown",
      "source": [],
      "metadata": {
        "id": "-eQ_3ng06I4u"
      }
    },
    {
      "cell_type": "markdown",
      "source": [],
      "metadata": {
        "id": "pwkmibYq6I15"
      }
    },
    {
      "cell_type": "markdown",
      "source": [],
      "metadata": {
        "id": "RkDeQfeM6IzL"
      }
    },
    {
      "cell_type": "markdown",
      "source": [],
      "metadata": {
        "id": "BDONVf3p6IwJ"
      }
    },
    {
      "cell_type": "markdown",
      "source": [],
      "metadata": {
        "id": "MFqjhQ4w6ItB"
      }
    },
    {
      "cell_type": "markdown",
      "source": [],
      "metadata": {
        "id": "fcgvFXqy6IoZ"
      }
    },
    {
      "cell_type": "markdown",
      "source": [],
      "metadata": {
        "id": "TFlJ_Oht6HtP"
      }
    }
  ]
}