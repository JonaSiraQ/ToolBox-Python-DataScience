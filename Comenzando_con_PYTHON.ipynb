{
  "nbformat": 4,
  "nbformat_minor": 0,
  "metadata": {
    "colab": {
      "name": "Comenzando con PYTHON.ipynb",
      "provenance": [],
      "collapsed_sections": [],
      "include_colab_link": true
    },
    "kernelspec": {
      "name": "python3",
      "display_name": "Python 3"
    }
  },
  "cells": [
    {
      "cell_type": "markdown",
      "metadata": {
        "id": "view-in-github",
        "colab_type": "text"
      },
      "source": [
        "<a href=\"https://colab.research.google.com/github/JonaSiraQ/ToolBox-Python-DataScience/blob/main/Comenzando_con_PYTHON.ipynb\" target=\"_parent\"><img src=\"https://colab.research.google.com/assets/colab-badge.svg\" alt=\"Open In Colab\"/></a>"
      ]
    },
    {
      "cell_type": "markdown",
      "source": [
        "<div style=\"text-align: center\"><img src=\"https://www.python.org/static/img/python-logo.png\"></div>"
      ],
      "metadata": {
        "id": "nmUpVrO5gNt3"
      }
    },
    {
      "cell_type": "markdown",
      "metadata": {
        "id": "K1GZdTu_qma5",
        "colab_type": "toc"
      },
      "source": [
        ">[BREVE INTRODUCCIÓN A PYTHON Y GESTIÓN DE DATOS](#scrollTo=AHONY2VzigaP)\n",
        "\n",
        ">[1) Variables y Strings](#scrollTo=N8S1S_80Dul3)\n",
        "\n",
        ">>[Comentarios en Python](#scrollTo=bAy8mpOYD8Xp)\n",
        "\n",
        ">>[Indentación](#scrollTo=TV3DsINONxow)\n",
        "\n",
        ">>[Variables](#scrollTo=bANra59GNxke)\n",
        "\n",
        ">[2) Operadores](#scrollTo=V0wGuRr3Duhv)\n",
        "\n",
        ">[3) Tipos y estructuras de datos](#scrollTo=B70grkECD97i)\n",
        "\n",
        ">[4) Condicionales y ciclos](#scrollTo=Vzh0lXtID9rU)\n",
        "\n",
        ">[5) Importando y trabajando con archivos](#scrollTo=Yhmd_hwmD9b5)\n",
        "\n",
        ">[6) Funciones](#scrollTo=eG_Hqe5HDuUM)\n",
        "\n",
        ">[7) Numpy](#scrollTo=x_PQ8ji5DuKj)\n",
        "\n",
        ">[8) Pandas](#scrollTo=GrgbDAIbDt90)\n",
        "\n",
        ">[9) Matplot](#scrollTo=VwODBzNZDtod)\n",
        "\n",
        ">[10) Excepciones y errores](#scrollTo=uU48D3R5EdLq)\n",
        "\n",
        ">[11) Módulos y paquetes](#scrollTo=wzLAzRdTEc9s)\n",
        "\n",
        ">[12) Programación Orientada a Objetos](#scrollTo=BAfiSgScDtUI)\n",
        "\n",
        ">[Formatos de Colab](#scrollTo=SvfFc9kYE0gi)\n",
        "\n",
        ">>[Criterio de evaluación](#scrollTo=0Uv0eAi_yqJM)\n",
        "\n",
        ">>[Tips](#scrollTo=pEjPYOxOw27M)\n",
        "\n",
        ">>[Carga de datos](#scrollTo=RzO8w1ysoR5P)\n",
        "\n",
        ">>[Limpieza de datos](#scrollTo=KAjjl-EDoYZ_)\n",
        "\n",
        ">>[Transformación de datos](#scrollTo=1Ht6Zro3oje8)\n",
        "\n",
        ">>[Análisis y Visualizaciones](#scrollTo=-oZALeyloq56)\n",
        "\n",
        ">>[Conclusión](#scrollTo=q7ppUWSYpA7A)\n",
        "\n"
      ]
    },
    {
      "cell_type": "markdown",
      "metadata": {
        "id": "AHONY2VzigaP"
      },
      "source": [
        "# BREVE INTRODUCCIÓN A PYTHON Y GESTIÓN DE DATOS\n",
        "\n",
        "\n",
        "En el presente Notebook de Google Colaboratory se tiene como fin registrar los conceptos, funcionalidades, librerías y estructuras mas importantes para quieran adentrarse en el apasionado mundo del Análisis de Datos.\n",
        "\n",
        "\n",
        "Puede aprenderse más sobre el lenguaje en [python.org](https://www.python.org/) y en [Python for Beginners](https://www.python.org/about/gettingstarted/).\n",
        "\n",
        "\n",
        "Para ejecutar localmente los ejercicios en laptop o PC, es recomendado que se trabaje en Python 3.7\n",
        "\n",
        "\n",
        "Agradecimentos: a los excelentes docentes y \"evangelizadores\" de los datos de la Diplomatura en Ciencia de Datos de la U.A.D.E., al equipo de estudio y trabajo del cual tuve el privilegio de formar parte, y a la comunidad de Data Science. "
      ]
    },
    {
      "cell_type": "markdown",
      "source": [
        "# 1) Variables y Strings"
      ],
      "metadata": {
        "id": "N8S1S_80Dul3"
      }
    },
    {
      "cell_type": "markdown",
      "source": [
        "## Comentarios en Python\n",
        "\n",
        "\n",
        "En todos los lenguajes de programación es importante documentar y hacer comentarios para que, nuestro \"yo del futuro\" u otro desarrollador, entiendan el contexteo y funcionamiento de un bloque de código. \n",
        "\n",
        "Los comentarios no se ejecutan como código por el intérprete de Python.\n",
        "\n",
        "Ejemplo :"
      ],
      "metadata": {
        "id": "bAy8mpOYD8Xp"
      }
    },
    {
      "cell_type": "code",
      "source": [
        "# Hola, este es un mensaje para tu \"yo del futuro\"\n",
        "text = '# Este es un mensaje para tu \"yo de hoy\": Este NO es un comentario porque el código esta escrito entre \\' \\', por lo que es una cadena de caracteres.'\n",
        "print(text)"
      ],
      "metadata": {
        "colab": {
          "base_uri": "https://localhost:8080/"
        },
        "id": "vz6gezhHMv5H",
        "outputId": "9e8b980e-f4c3-42ec-c637-84f90b0b5984"
      },
      "execution_count": null,
      "outputs": [
        {
          "output_type": "stream",
          "name": "stdout",
          "text": [
            "# Este es un mensaje para tu \"yo de hoy\": Este NO es un comentario porque el código esta escrito entre ' ', por lo que es una cadena de caracteres.\n"
          ]
        }
      ]
    },
    {
      "cell_type": "markdown",
      "source": [
        "## Indentación\n",
        "\n",
        "La indentación es similar a la sangría. \n",
        "\n",
        "Python usa la indentación para especificar dónde empiezan y dónde terminan los bloques de código."
      ],
      "metadata": {
        "id": "TV3DsINONxow"
      }
    },
    {
      "cell_type": "code",
      "source": [
        "a = 1\n",
        "\n",
        "# Usamos la indentación para que las próximas 3 líneas de código sean de un mismo bloque:\n",
        "if a == 1:\n",
        "  texto = 'La indentación separo las intrucciones del \"if\" de las del \"print\".'\n",
        "\n",
        "print(texto)"
      ],
      "metadata": {
        "colab": {
          "base_uri": "https://localhost:8080/"
        },
        "id": "jhyLVZNGzfxK",
        "outputId": "0d125707-aad2-45a5-c8a4-3294d3953a33"
      },
      "execution_count": null,
      "outputs": [
        {
          "output_type": "stream",
          "name": "stdout",
          "text": [
            "La indentación separo las intrucciones del \"if\" de las del \"print\"\n"
          ]
        }
      ]
    },
    {
      "cell_type": "markdown",
      "source": [
        "## Variables\n",
        "\n",
        "Las variables nos permiten guardar valores en diferentes partes del código.\n",
        "Para crear una variable hay que especificar el nombre y asignarle un valor.\n",
        "\n",
        "Se le asigna un valor determinado a una variable con el signo \"=\" (no con \"==\").\n",
        "\n",
        "No es necesario definir de qué tipo es la variable.\n",
        "\n",
        "```\n",
        "<nombre_variable> = <valor>\n",
        "```\n"
      ],
      "metadata": {
        "id": "bANra59GNxke"
      }
    },
    {
      "cell_type": "code",
      "source": [
        "# Asignamos valores a las variables\n",
        "\n",
        "n = 72  # tipo int\n",
        "club = 'Boca Juniors'  # tipo String\n",
        "\n",
        "# Usamos las variables para imprimirlas por pantalla.\n",
        "print('Cuál es el club de fútbol argentino que más Títulos conquisto en la historia del fútbol?\\n')\n",
        "print('El club es:', club)\n",
        "print('Ganó', n, 'títulos')\n"
      ],
      "metadata": {
        "colab": {
          "base_uri": "https://localhost:8080/"
        },
        "id": "oEIcDcdp0-Jb",
        "outputId": "d6f6c5c5-cd78-4c39-dda5-f34aecf35d77"
      },
      "execution_count": null,
      "outputs": [
        {
          "output_type": "stream",
          "name": "stdout",
          "text": [
            "Cuál es el club de fútbol argentino que más Títulos conquisto en la historia del fútbol?\n",
            "\n",
            "El club es:  Boca Juniors\n",
            "Ganó 72 títulos\n"
          ]
        }
      ]
    },
    {
      "cell_type": "markdown",
      "source": [
        "Las VARIABLES son CASE SENSITIVE (distinguen entre mayúsculas y minúsculas).\n",
        "\n",
        "Los nombres no pueden ser palabras reservadas de Python. Por ejemplo: **False, Class, def, for, while**, etc."
      ],
      "metadata": {
        "id": "HLUgRhLoNxgo"
      }
    },
    {
      "cell_type": "code",
      "source": [
        "# Las variables son CASE SENSITIVE\n",
        "\n",
        "b = 69  # tipo int\n",
        "B = 'River Plate'  # tipo String\n",
        "\n",
        "# Usamos las variables para imprimirlas por pantalla.\n",
        "print('Cuál es el club de primera división del fútbol argentino que \"se fue a la B\", y cuántos Títulos conquisto?\\n')\n",
        "print('El club es:', B)\n",
        "print('Ganó', b, 'títulos')"
      ],
      "metadata": {
        "colab": {
          "base_uri": "https://localhost:8080/"
        },
        "id": "3m8W4t9n35RN",
        "outputId": "b59b596f-8ce3-4595-8772-74f17974255c"
      },
      "execution_count": null,
      "outputs": [
        {
          "output_type": "stream",
          "name": "stdout",
          "text": [
            "Cuál es el club de primera división del fútbol argentino que \"se fue a la B\", y cuántos Títulos conquisto?\n",
            "\n",
            "El club es: River Plate\n",
            "Ganó 69 títulos\n"
          ]
        }
      ]
    },
    {
      "cell_type": "markdown",
      "source": [
        ""
      ],
      "metadata": {
        "id": "7YN_jWrZNxdJ"
      }
    },
    {
      "cell_type": "markdown",
      "source": [
        ""
      ],
      "metadata": {
        "id": "8BfNYTeKNxZx"
      }
    },
    {
      "cell_type": "markdown",
      "source": [
        ""
      ],
      "metadata": {
        "id": "BlmdXqmKNxV_"
      }
    },
    {
      "cell_type": "markdown",
      "source": [
        ""
      ],
      "metadata": {
        "id": "SLMhvdHzNxSO"
      }
    },
    {
      "cell_type": "markdown",
      "source": [
        ""
      ],
      "metadata": {
        "id": "J7wPjO8PNxOw"
      }
    },
    {
      "cell_type": "markdown",
      "source": [
        ""
      ],
      "metadata": {
        "id": "MRvzCBnqNxKm"
      }
    },
    {
      "cell_type": "markdown",
      "source": [
        ""
      ],
      "metadata": {
        "id": "b8yh22nbNxHJ"
      }
    },
    {
      "cell_type": "markdown",
      "source": [
        ""
      ],
      "metadata": {
        "id": "0vE4jmprNw-4"
      }
    },
    {
      "cell_type": "markdown",
      "source": [
        "# 2) Operadores"
      ],
      "metadata": {
        "id": "V0wGuRr3Duhv"
      }
    },
    {
      "cell_type": "markdown",
      "source": [
        ""
      ],
      "metadata": {
        "id": "MQcPdx6ADudQ"
      }
    },
    {
      "cell_type": "markdown",
      "source": [
        "# 3) Tipos y estructuras de datos\n"
      ],
      "metadata": {
        "id": "B70grkECD97i"
      }
    },
    {
      "cell_type": "markdown",
      "source": [
        ""
      ],
      "metadata": {
        "id": "HGXPtLYdD9z0"
      }
    },
    {
      "cell_type": "markdown",
      "source": [
        "# 4) Condicionales y ciclos"
      ],
      "metadata": {
        "id": "Vzh0lXtID9rU"
      }
    },
    {
      "cell_type": "markdown",
      "source": [
        ""
      ],
      "metadata": {
        "id": "UbjcMAjYD9j2"
      }
    },
    {
      "cell_type": "markdown",
      "source": [
        "# 5) Importando y trabajando con archivos"
      ],
      "metadata": {
        "id": "Yhmd_hwmD9b5"
      }
    },
    {
      "cell_type": "markdown",
      "source": [
        ""
      ],
      "metadata": {
        "id": "fkkuMKXpDuYn"
      }
    },
    {
      "cell_type": "markdown",
      "source": [
        "# 6) Funciones"
      ],
      "metadata": {
        "id": "eG_Hqe5HDuUM"
      }
    },
    {
      "cell_type": "markdown",
      "source": [
        ""
      ],
      "metadata": {
        "id": "sAZ_2EqODuPq"
      }
    },
    {
      "cell_type": "markdown",
      "source": [
        "# 7) Numpy"
      ],
      "metadata": {
        "id": "x_PQ8ji5DuKj"
      }
    },
    {
      "cell_type": "markdown",
      "source": [
        ""
      ],
      "metadata": {
        "id": "BAZox4PHDuFr"
      }
    },
    {
      "cell_type": "markdown",
      "source": [
        "# 8) Pandas"
      ],
      "metadata": {
        "id": "GrgbDAIbDt90"
      }
    },
    {
      "cell_type": "markdown",
      "source": [
        ""
      ],
      "metadata": {
        "id": "eULnRFELDt08"
      }
    },
    {
      "cell_type": "markdown",
      "source": [
        "# 9) Matplot"
      ],
      "metadata": {
        "id": "VwODBzNZDtod"
      }
    },
    {
      "cell_type": "markdown",
      "source": [
        ""
      ],
      "metadata": {
        "id": "LxwSQSLtEdPn"
      }
    },
    {
      "cell_type": "markdown",
      "source": [
        "# 10) Excepciones y errores"
      ],
      "metadata": {
        "id": "uU48D3R5EdLq"
      }
    },
    {
      "cell_type": "markdown",
      "source": [
        ""
      ],
      "metadata": {
        "id": "p3Sz7WyoEdDh"
      }
    },
    {
      "cell_type": "markdown",
      "source": [
        "# 11) Módulos y paquetes"
      ],
      "metadata": {
        "id": "wzLAzRdTEc9s"
      }
    },
    {
      "cell_type": "markdown",
      "source": [
        ""
      ],
      "metadata": {
        "id": "ZPjbUenpDtfp"
      }
    },
    {
      "cell_type": "markdown",
      "source": [
        "# 12) Programación Orientada a Objetos"
      ],
      "metadata": {
        "id": "BAfiSgScDtUI"
      }
    },
    {
      "cell_type": "markdown",
      "metadata": {
        "id": "4nsbdrUgpL4k"
      },
      "source": [
        ""
      ]
    },
    {
      "cell_type": "markdown",
      "source": [
        "# Formatos de Colab"
      ],
      "metadata": {
        "id": "SvfFc9kYE0gi"
      }
    },
    {
      "cell_type": "markdown",
      "metadata": {
        "id": "0Uv0eAi_yqJM"
      },
      "source": [
        "## Criterio de evaluación\n",
        "\n",
        "Se les brindará un archivo el cual debe ser importado utilizando los métodos conocidos. Luego se procederá a realizar procesos simples de limpieza, gestión y transformaciones de datos con el objetivo de encontrar patrones y realizar visualizaciones.\n",
        "\n",
        "Como parte del examen se evaluarán los siguientes conceptos:\n",
        "\n",
        "* Importar datos desde fuentes externas\n",
        "* Uso de funciones\n",
        "\n",
        "---\n",
        "\n",
        "\n",
        "\n",
        "A continuación, se detallan las indicaciones para la resolución del examen. Tenga a bien leer todas las instrucciones y no dude en consultar si tiene alguna duda.\n",
        "\n",
        "\n",
        "9. Para visualizaciones se debe usar la librería **matplotlib** solamente, \n",
        "al menos 3 visualizaciones deben estar realizadas directamente sobre **matplotlib**\n",
        "10. Los archivos a utilizar se encuentran almacenados en la siguiente URL:\n",
        "\n",
        "**Dataset:** \n",
        "\n",
        "https://github.com/al34n1x/DataScience/blob/master/100.Examen/2022/netflix_titles.csv\n",
        "\n",
        "\n",
        "---\n"
      ]
    },
    {
      "cell_type": "markdown",
      "source": [
        "## Tips\n",
        "\n",
        "1. Escapar lineas de archivos. Parámetro **skiprows** en pandas\n",
        "\n",
        "```\n",
        "df = pd.read_csv('file',skiprows=N)\n",
        "```\n",
        "\n",
        "2. Escapar lineas de archivos utilizando librería **CSV**\n",
        "\n",
        "```\n",
        "for i in range(N):\n",
        "    CSVFile.next()\n",
        "reader = csv.DictReader(CSVFile)\n",
        "```"
      ],
      "metadata": {
        "id": "pEjPYOxOw27M"
      }
    },
    {
      "cell_type": "markdown",
      "metadata": {
        "id": "RzO8w1ysoR5P"
      },
      "source": [
        "## Carga de datos"
      ]
    },
    {
      "cell_type": "code",
      "metadata": {
        "id": "CxWDctuiiZGX"
      },
      "source": [
        "# Introduzca su código aquí"
      ],
      "execution_count": null,
      "outputs": []
    },
    {
      "cell_type": "markdown",
      "metadata": {
        "id": "KAjjl-EDoYZ_"
      },
      "source": [
        "## Limpieza de datos"
      ]
    },
    {
      "cell_type": "code",
      "metadata": {
        "id": "3__CVMilodU_"
      },
      "source": [
        "# Introduzca su código aquí"
      ],
      "execution_count": null,
      "outputs": []
    },
    {
      "cell_type": "markdown",
      "metadata": {
        "id": "1Ht6Zro3oje8"
      },
      "source": [
        "## Transformación de datos"
      ]
    },
    {
      "cell_type": "code",
      "metadata": {
        "id": "2Mm_EPq6oo1X"
      },
      "source": [
        "# Introduzca su código aquí"
      ],
      "execution_count": null,
      "outputs": []
    },
    {
      "cell_type": "markdown",
      "metadata": {
        "id": "-oZALeyloq56"
      },
      "source": [
        "## Análisis y Visualizaciones\n",
        "\n",
        "*Ingrese su análisis aquí*\n"
      ]
    },
    {
      "cell_type": "code",
      "metadata": {
        "id": "C-sOWcJho2mD"
      },
      "source": [
        "# Ingrese su código de visualización aquí"
      ],
      "execution_count": null,
      "outputs": []
    },
    {
      "cell_type": "markdown",
      "metadata": {
        "id": "q7ppUWSYpA7A"
      },
      "source": [
        "## Conclusión\n",
        "\n",
        "*Ingrese conclusión aquí*"
      ]
    },
    {
      "cell_type": "code",
      "metadata": {
        "id": "KJCmCpYIpJAB"
      },
      "source": [
        "# Ingrese código aquí"
      ],
      "execution_count": null,
      "outputs": []
    }
  ]
}