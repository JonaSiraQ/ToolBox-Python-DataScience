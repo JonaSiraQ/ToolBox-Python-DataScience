{
  "nbformat": 4,
  "nbformat_minor": 0,
  "metadata": {
    "colab": {
      "name": "Sin titulo - Para empezar.ipynb",
      "provenance": [],
      "collapsed_sections": [],
      "include_colab_link": true
    },
    "kernelspec": {
      "name": "python3",
      "display_name": "Python 3"
    }
  },
  "cells": [
    {
      "cell_type": "markdown",
      "metadata": {
        "id": "view-in-github",
        "colab_type": "text"
      },
      "source": [
        "<a href=\"https://colab.research.google.com/github/JonaSiraQ/ToolBox-Python-DataScience/blob/main/Sin_titulo_Para_empezar.ipynb\" target=\"_parent\"><img src=\"https://colab.research.google.com/assets/colab-badge.svg\" alt=\"Open In Colab\"/></a>"
      ]
    },
    {
      "cell_type": "markdown",
      "metadata": {
        "id": "K1GZdTu_qma5",
        "colab_type": "toc"
      },
      "source": [
        ">[Examen Diplomatura de Ciencias de Datos (Introducción a Python y Gestión de datos)](#scrollTo=AHONY2VzigaP)\n",
        "\n",
        ">>[Criterio de evaluación](#scrollTo=0Uv0eAi_yqJM)\n",
        "\n",
        ">>[Tips](#scrollTo=pEjPYOxOw27M)\n",
        "\n",
        ">>[Carga de datos](#scrollTo=RzO8w1ysoR5P)\n",
        "\n",
        ">>[Limpieza de datos](#scrollTo=KAjjl-EDoYZ_)\n",
        "\n",
        ">>[Transformación de datos](#scrollTo=1Ht6Zro3oje8)\n",
        "\n",
        ">>[Análisis y Visualizaciones](#scrollTo=-oZALeyloq56)\n",
        "\n",
        ">>[Conclusión](#scrollTo=q7ppUWSYpA7A)\n",
        "\n",
        ">>[Almacenamiento de resultados](#scrollTo=4nsbdrUgpL4k)\n",
        "\n"
      ]
    },
    {
      "cell_type": "markdown",
      "metadata": {
        "id": "AHONY2VzigaP"
      },
      "source": [
        "# Examen Diplomatura de Ciencias de Datos (Introducción a Python y Gestión de datos)\n",
        "\n",
        "A continuación, se detallan las indicaciones para la resolución del examen. Tenga a bien leer todas las instrucciones y no dude en consultar si tiene alguna duda.\n",
        "\n",
        "\n",
        "9. Para visualizaciones se debe usar la librería **matplotlib** solamente, \n",
        "al menos 3 visualizaciones deben estar realizadas directamente sobre **matplotlib**\n",
        "10. Los archivos a utilizar se encuentran almacenados en la siguiente URL:\n",
        "\n",
        "**Dataset:** \n",
        "\n",
        "https://github.com/al34n1x/DataScience/blob/master/100.Examen/2022/netflix_titles.csv\n",
        "\n",
        "\n",
        "---\n",
        "\n",
        "\n"
      ]
    },
    {
      "cell_type": "markdown",
      "metadata": {
        "id": "0Uv0eAi_yqJM"
      },
      "source": [
        "## Criterio de evaluación\n",
        "\n",
        "Se les brindará un archivo el cual debe ser importado utilizando los métodos conocidos. Luego se procederá a realizar procesos simples de limpieza, gestión y transformaciones de datos con el objetivo de encontrar patrones y realizar visualizaciones.\n",
        "\n",
        "Como parte del examen se evaluarán los siguientes conceptos:\n",
        "\n",
        "* Importar datos desde fuentes externas\n",
        "* Uso de funciones\n",
        "\n",
        "---\n",
        "\n"
      ]
    },
    {
      "cell_type": "markdown",
      "source": [
        "## Tips\n",
        "\n",
        "1. Escapar lineas de archivos. Parámetro **skiprows** en pandas\n",
        "\n",
        "```\n",
        "df = pd.read_csv('file',skiprows=N)\n",
        "```\n",
        "\n",
        "2. Escapar lineas de archivos utilizando librería **CSV**\n",
        "\n",
        "```\n",
        "for i in range(N):\n",
        "    CSVFile.next()\n",
        "reader = csv.DictReader(CSVFile)\n",
        "```"
      ],
      "metadata": {
        "id": "pEjPYOxOw27M"
      }
    },
    {
      "cell_type": "markdown",
      "metadata": {
        "id": "RzO8w1ysoR5P"
      },
      "source": [
        "## Carga de datos"
      ]
    },
    {
      "cell_type": "code",
      "metadata": {
        "id": "CxWDctuiiZGX"
      },
      "source": [
        "# Introduzca su código aquí"
      ],
      "execution_count": null,
      "outputs": []
    },
    {
      "cell_type": "markdown",
      "metadata": {
        "id": "KAjjl-EDoYZ_"
      },
      "source": [
        "## Limpieza de datos"
      ]
    },
    {
      "cell_type": "code",
      "metadata": {
        "id": "3__CVMilodU_"
      },
      "source": [
        "# Introduzca su código aquí"
      ],
      "execution_count": null,
      "outputs": []
    },
    {
      "cell_type": "code",
      "metadata": {
        "id": "qG4Wz0ulofCs"
      },
      "source": [
        "# Introduzca su código aquí"
      ],
      "execution_count": null,
      "outputs": []
    },
    {
      "cell_type": "code",
      "metadata": {
        "id": "WxfyKGVgofny"
      },
      "source": [
        "# Introduzca su código aquí"
      ],
      "execution_count": null,
      "outputs": []
    },
    {
      "cell_type": "markdown",
      "metadata": {
        "id": "1Ht6Zro3oje8"
      },
      "source": [
        "## Transformación de datos"
      ]
    },
    {
      "cell_type": "code",
      "metadata": {
        "id": "2Mm_EPq6oo1X"
      },
      "source": [
        "# Introduzca su código aquí"
      ],
      "execution_count": null,
      "outputs": []
    },
    {
      "cell_type": "code",
      "metadata": {
        "id": "R2ezdWulopZ7"
      },
      "source": [
        "# Introduzca su código aquí"
      ],
      "execution_count": null,
      "outputs": []
    },
    {
      "cell_type": "code",
      "metadata": {
        "id": "s7QhynVUopuU"
      },
      "source": [
        "# Introduzca su código aquí"
      ],
      "execution_count": null,
      "outputs": []
    },
    {
      "cell_type": "markdown",
      "metadata": {
        "id": "-oZALeyloq56"
      },
      "source": [
        "## Análisis y Visualizaciones\n",
        "\n",
        "*Ingrese su análisis aquí*\n"
      ]
    },
    {
      "cell_type": "code",
      "metadata": {
        "id": "C-sOWcJho2mD"
      },
      "source": [
        "# Ingrese su código de visualización aquí"
      ],
      "execution_count": null,
      "outputs": []
    },
    {
      "cell_type": "code",
      "metadata": {
        "id": "qaW4HTZFo-UB"
      },
      "source": [
        "# Ingrese su código de visualización aquí"
      ],
      "execution_count": null,
      "outputs": []
    },
    {
      "cell_type": "code",
      "metadata": {
        "id": "_awIuxWoo-o7"
      },
      "source": [
        "# Ingrese su código de visualización aquí"
      ],
      "execution_count": null,
      "outputs": []
    },
    {
      "cell_type": "markdown",
      "metadata": {
        "id": "q7ppUWSYpA7A"
      },
      "source": [
        "## Conclusión\n",
        "\n",
        "*Ingrese conclusión aquí*"
      ]
    },
    {
      "cell_type": "code",
      "metadata": {
        "id": "KJCmCpYIpJAB"
      },
      "source": [
        "# Ingrese código aquí"
      ],
      "execution_count": null,
      "outputs": []
    },
    {
      "cell_type": "markdown",
      "metadata": {
        "id": "4nsbdrUgpL4k"
      },
      "source": [
        "## Almacenamiento de resultados"
      ]
    },
    {
      "cell_type": "code",
      "metadata": {
        "id": "xfn-lOPKpPxf"
      },
      "source": [
        "# Ingrese código aquí"
      ],
      "execution_count": null,
      "outputs": []
    }
  ]
}