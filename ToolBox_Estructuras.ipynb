{
  "nbformat": 4,
  "nbformat_minor": 0,
  "metadata": {
    "colab": {
      "name": "ToolBox - Estructuras.ipynb",
      "provenance": [],
      "collapsed_sections": [
        "pEjPYOxOw27M"
      ],
      "include_colab_link": true
    },
    "kernelspec": {
      "name": "python3",
      "display_name": "Python 3"
    },
    "gpuClass": "standard"
  },
  "cells": [
    {
      "cell_type": "markdown",
      "metadata": {
        "id": "view-in-github",
        "colab_type": "text"
      },
      "source": [
        "<a href=\"https://colab.research.google.com/github/JonaSiraQ/ToolBox-Python-DataScience/blob/main/ToolBox_Estructuras.ipynb\" target=\"_parent\"><img src=\"https://colab.research.google.com/assets/colab-badge.svg\" alt=\"Open In Colab\"/></a>"
      ]
    },
    {
      "cell_type": "markdown",
      "metadata": {
        "id": "K1GZdTu_qma5",
        "colab_type": "toc"
      },
      "source": [
        ">[ToolBox de Estructuras de Programas](#scrollTo=AHONY2VzigaP)\n",
        "\n",
        ">>[Tips](#scrollTo=pEjPYOxOw27M)\n",
        "\n",
        ">>[1) Lógica de entrada y salida del programa.](#scrollTo=RzO8w1ysoR5P)\n",
        "\n",
        ">>[2) Validación de tipo y condiciones de dato ingresado.](#scrollTo=KAjjl-EDoYZ_)\n",
        "\n",
        ">>[3) Lógica de entrada y salida del programa, y validación de tipo y condiciones de dato ingresado.](#scrollTo=1Ht6Zro3oje8)\n",
        "\n",
        ">>[Conclusión](#scrollTo=q7ppUWSYpA7A)\n",
        "\n"
      ]
    },
    {
      "cell_type": "markdown",
      "metadata": {
        "id": "AHONY2VzigaP"
      },
      "source": [
        "# ToolBox de Estructuras de Programas\n",
        "\n",
        "A continuación, se \n",
        "\n",
        "\n",
        "9. Para visualizaciones se debe usar la librería **matplotlib** solamente, \n",
        "al menos 3 visualizaciones deben estar realizadas directamente sobre **matplotlib**\n",
        "10. Los archivos a utilizar se encuentran almacenados en la siguiente URL:\n",
        "\n",
        "\n",
        "\n",
        "---\n",
        "\n",
        "\n"
      ]
    },
    {
      "cell_type": "markdown",
      "source": [
        "## Tips\n",
        "\n",
        "1. Escapar lineas de archivos. Parámetro **skiprows** en pandas\n",
        "\n",
        "```\n",
        "df = pd.read_csv('file',skiprows=N)\n",
        "```\n",
        "\n",
        "2. Escapar lineas de archivos utilizando librería **CSV**\n",
        "\n",
        "```\n",
        "for i in range(N):\n",
        "    CSVFile.next()\n",
        "reader = csv.DictReader(CSVFile)\n",
        "```"
      ],
      "metadata": {
        "id": "pEjPYOxOw27M"
      }
    },
    {
      "cell_type": "markdown",
      "metadata": {
        "id": "RzO8w1ysoR5P"
      },
      "source": [
        "## 1) Lógica de entrada y salida del programa.\n",
        "\n",
        "Estructura de un programa en el cual el usuario puede ingresar instrucciones, continuar ejecutando el programa y/o salir del programa."
      ]
    },
    {
      "cell_type": "code",
      "metadata": {
        "id": "CxWDctuiiZGX"
      },
      "source": [
        "# We code the Methods that will be used by the Main Method.\n",
        "\n",
        "def starting_msg():\n",
        "  \"\"\"Method that prints a message when the program starts running.\"\"\"\n",
        "\n",
        "  print('\\n**********  PROGRAM STRUCTURE with INPUT and OUTPUT LOGIC by @JonatanSiracusaCoder  **********\\n')\n",
        "  print('Starting the program.\\n')\n",
        "\n",
        "\n",
        "def user_instructions():\n",
        "  \"\"\"Method receives the instructions from the user.\"\"\"\n",
        "\n",
        "  answer = input(\n",
        "    '\\nPress the \"O\" key for entering and order.'\n",
        "    '\\nPress the \"C\" key for cancelling all the orders entered.'\n",
        "    '\\nPress the \"S\" key for closing the program.'\n",
        "    '\\nWhat do you wish to do? ')\n",
        "  answer = answer.lower()\n",
        "  return answer\n",
        "\n",
        "\n",
        "# *************************************  MAIN PROGRAM  *************************************\n",
        "\n",
        "def main():\n",
        "  \"\"\"Main program\"\"\"\n",
        "\n",
        "  # 1) INPUT DATA LOADING \n",
        "  # We start the program and show the messages for receiving the user's instructions.\n",
        "  starting_msg()\n",
        "  to_do = user_instructions()\n",
        "\n",
        "  # 2) DATA PROCESSING & DATA OUTPUT\n",
        "  # ------------- Main program Loop ---------------\n",
        "  while to_do != \"s\":\n",
        "    if to_do == \"o\":\n",
        "      print(\"\\nYou pressed the\", to_do, \"key.\\n\")\n",
        "    elif to_do == \"c\":\n",
        "      print(\"\\nYou pressed the\", to_do, \"key.\\n\")\n",
        "    else:\n",
        "      print(\"\\nYou pressed a key that is not an option. \\nPlease, try again.\\n\")\n",
        "    \n",
        "    to_do = user_instructions()\n",
        "  \n",
        "  # 3) CLOSING THE PROGRAM\n",
        "  # Key \"s\" is pressed by the user.\n",
        "  print(\"\\nYou selected closing the program. \\nThe program is finished.\\n\")\n",
        "\n",
        "\n",
        "if __name__ == '__main__':\n",
        "    main()"
      ],
      "execution_count": null,
      "outputs": []
    },
    {
      "cell_type": "markdown",
      "metadata": {
        "id": "KAjjl-EDoYZ_"
      },
      "source": [
        "## 2) Validación de tipo y condiciones de dato ingresado.\n",
        "\n",
        "Estructura de un programa en el cual el usuario ingresa valores por teclado y el programa solo permite avanzar si el valor ingresado coincide con el tipo de dato y condiciones solicitadas por el programa."
      ]
    },
    {
      "cell_type": "code",
      "metadata": {
        "id": "3__CVMilodU_"
      },
      "source": [
        "# We code the Methods that will be used by the Main Method.\n",
        "\n",
        "def starting_msg():\n",
        "  \"\"\"Method that prints a message when the program starts running.\"\"\"\n",
        "\n",
        "  print('\\n**********  PROGRAM STRUCTURE with TYPE & CONDITIONS VALIDATION INPUT by @JonatanSiracusaCoder  **********\\n')\n",
        "  print('Starting the program.\\n')\n",
        "\n",
        "\n",
        "def user_instructions():\n",
        "  \"\"\"Method receives the instructions from the user.\"\"\"\n",
        "\n",
        "  answer = float(input(\n",
        "    '\\nEnter a float number between 1 and 3. The program will finish once a valid value is entered.'\n",
        "    '\\nPlease, enter your number: '))\n",
        "  return answer\n",
        "\n",
        "\n",
        "# *************************************  MAIN PROGRAM  *************************************\n",
        "\n",
        "def main():\n",
        "  \"\"\"Main program\"\"\"\n",
        "\n",
        "  # 1) INPUT DATA LOADING \n",
        "  # We define the variables\n",
        "  min = 1\n",
        "  max = 3\n",
        "  is_valid = False\n",
        "  is_condition_ok = False\n",
        "\n",
        "  # We start the program and show the messages for receiving the user's instructions.\n",
        "  starting_msg()\n",
        "  \n",
        "  # ------------- Main program Loop ---------------\n",
        "  while not is_valid or not is_condition_ok:\n",
        "    try:\n",
        "      value = user_instructions()      \n",
        "      is_valid = True\n",
        "\n",
        "      if ((value <= max) and (value >= min)):\n",
        "        is_condition_ok = True\n",
        "      else:\n",
        "        is_condition_ok = False\n",
        "        value = 0\n",
        "        print(\"\\nSorry, the value must meet the mentioned conditions.\\n\")      \n",
        "\n",
        "    except:\n",
        "      is_valid = False\n",
        "      print(\"\\nSorry, only float numbers are allowed.\\n\")\n",
        "  \n",
        "  # 2) DATA PROCESSING & DATA OUTPUT\n",
        "  print(\"\\nYou entered this value: \", value, \"\\n\")\n",
        "  print(\"\\nThe program is finished.\\n\")\n",
        "\n",
        "if __name__ == '__main__':\n",
        "  main()\n"
      ],
      "execution_count": null,
      "outputs": []
    },
    {
      "cell_type": "markdown",
      "metadata": {
        "id": "1Ht6Zro3oje8"
      },
      "source": [
        "## 3) Lógica de entrada y salida del programa, y validación de tipo y condiciones de dato ingresado.\n",
        "\n",
        "Estructura de un programa en el cual el usuario puede ingresar instrucciones, continuar ejecutando el programa y/o salir del programa. Asimismo, puede ingresar valores por teclado y el programa solo permite avanzar si el valor ingresado coincide con el tipo de dato y condiciones solicitadas por el programa."
      ]
    },
    {
      "cell_type": "code",
      "metadata": {
        "id": "2Mm_EPq6oo1X"
      },
      "source": [
        "# We code the resources that will be used by the Main Method.\n",
        "\n",
        "messages = {\n",
        "  'starting_msg': '\\n**********  PROGRAM STRUCTURE with INSTRUCTIONS LOGIC, and TYPE & CONDITIONS VALIDATION INPUT by @JonatanSiracusaCoder  **********\\nStarting the program.\\n',\n",
        "  'user_msg': '',\n",
        "  'user_instructions':  '\\nPress the \"I\" key for entering a number.'\n",
        "                        '\\nPress the \"Q\" key for closing the program.'\n",
        "                        '\\nWhat would you like to do? ',\n",
        "  'user_input': '\\nEnter a float number between 1 and 3.\\nPlease, enter your number: ',\n",
        "  'type_error': {\n",
        "      'int': '\\nSorry, only Integer data type is allowed.\\n',\n",
        "      'float': '\\nSorry, only Float data type is allowed.\\n',\n",
        "      'string': '\\nSorry, only String data type is allowed.\\n',\n",
        "      'else': '\\nSorry, there has been a problem in the data loading. Please, try again.\\n'\n",
        "      },\n",
        "  'conditions_error': '\\nSorry, the input must meet the mentioned conditions.\\n',\n",
        "  'data_output': '\\nThe number entered is:',\n",
        "  'option_error': '\\nYou pressed a key that is not an option. \\nPlease, try again.\\n',\n",
        "  'finish_program': '\\nYou selected closing the program. \\nThe program is finished.\\n'\n",
        "  }\n",
        "\n",
        "\n",
        "def checking_valid_input(input_type):\n",
        "  \"\"\"Method that manages errors and validates input data type.\"\"\"\n",
        "\n",
        "  is_valid_value = False  \n",
        "\n",
        "  # We check if the input type is equal to the input_type parameter.\n",
        "  while not is_valid_value:\n",
        "    try:\n",
        "      input_data = input(messages['user_input'])\n",
        "      \n",
        "      if input_type == 'int':\n",
        "        error_msg = messages['type_error']['int']\n",
        "        input_data = int(input_data)\n",
        "        is_valid_value = True\n",
        "\n",
        "      elif input_type == 'float':\n",
        "        error_msg = messages['type_error']['float']\n",
        "        input_data = float(input_data)\n",
        "        is_valid_value = True\n",
        "\n",
        "      elif input_type == 'str':\n",
        "        error_msg = messages['type_error']['str']\n",
        "        input_data = str(input_data)\n",
        "        is_valid_value = True\n",
        "\n",
        "      else:\n",
        "        error_msg = messages['type_error']['else']\n",
        "        input_data = '0'\n",
        "        is_valid_value = False\n",
        "        print(error_msg)\n",
        "    \n",
        "    except:\n",
        "      is_valid_value = False\n",
        "      input_data = '-1'\n",
        "      print(error_msg)\n",
        "\n",
        "  return input_data\n",
        "\n",
        "\n",
        "def checking_condition_input(input_data, input_type):\n",
        "  \"\"\" CHEQUEO que cumpla con las CONDICIONES \"\"\"\n",
        "\n",
        "  is_condition_ok = False\n",
        "  # Setting up conditions to be accomplished\n",
        "  min = 1\n",
        "  max = 3\n",
        "\n",
        "  while not is_condition_ok:\n",
        "    if ((input_data <= max) and (input_data >= min)):\n",
        "      is_condition_ok = True\n",
        "\n",
        "    else:\n",
        "      is_condition_ok = False\n",
        "      input_data = -1\n",
        "      print(messages['conditions_error'])\n",
        "      input_data = checking_valid_input(input_type)\n",
        "\n",
        "  return input_data\n",
        "\n",
        "\n",
        "# *************************************  MAIN PROGRAM  *************************************\n",
        "\n",
        "def main():\n",
        "  \"\"\"Main program\"\"\"\n",
        "\n",
        "  print(messages['starting_msg'])\n",
        "  to_do = input(messages['user_instructions']).lower()\n",
        "\n",
        "  # ------------- Main program Loop ---------------\n",
        "  is_empty = True\n",
        "\n",
        "  while to_do != 'q':\n",
        "    if to_do == 'i':\n",
        "      # 1) INPUT DATA LOADING\n",
        "      # ------------- Input data validation & conditions checking ---------------\n",
        "      input_type = 'float'\n",
        "      input_data = checking_valid_input(input_type)\n",
        "      input_data = checking_condition_input(input_data, input_type)\n",
        "      is_empty = False\n",
        "    else:\n",
        "      is_empty = True\n",
        "      print(messages['option_error'])\n",
        "    \n",
        "    # 2) DATA PROCESSING & DATA OUTPUT\n",
        "    if is_empty == False:\n",
        "      print(messages['data_output'], input_data, '\\n')\n",
        "    \n",
        "    to_do = input(messages['user_instructions']).lower()\n",
        "\n",
        "  # 3) CLOSING THE PROGRAM\n",
        "  print(messages['finish_program'])\n",
        "\n",
        "if __name__ == '__main__':\n",
        "  main()\n"
      ],
      "execution_count": null,
      "outputs": []
    },
    {
      "cell_type": "markdown",
      "metadata": {
        "id": "q7ppUWSYpA7A"
      },
      "source": [
        "## Conclusión"
      ]
    },
    {
      "cell_type": "code",
      "metadata": {
        "id": "KJCmCpYIpJAB"
      },
      "source": [
        "# Ingrese código aquí"
      ],
      "execution_count": null,
      "outputs": []
    }
  ]
}