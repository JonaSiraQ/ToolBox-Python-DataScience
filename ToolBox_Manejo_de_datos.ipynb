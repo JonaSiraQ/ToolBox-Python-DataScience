{
  "nbformat": 4,
  "nbformat_minor": 0,
  "metadata": {
    "colab": {
      "provenance": [],
      "collapsed_sections": [],
      "include_colab_link": true
    },
    "kernelspec": {
      "name": "python3",
      "display_name": "Python 3"
    }
  },
  "cells": [
    {
      "cell_type": "markdown",
      "metadata": {
        "id": "view-in-github",
        "colab_type": "text"
      },
      "source": [
        "<a href=\"https://colab.research.google.com/github/JonaSiraQ/ToolBox-Python-DataScience/blob/main/ToolBox_Manejo_de_datos.ipynb\" target=\"_parent\"><img src=\"https://colab.research.google.com/assets/colab-badge.svg\" alt=\"Open In Colab\"/></a>"
      ]
    },
    {
      "cell_type": "markdown",
      "metadata": {
        "id": "K1GZdTu_qma5",
        "colab_type": "toc"
      },
      "source": [
        ">[Examen Diplomatura de Ciencias de Datos (Introducción a Python y Gestión de datos)](#scrollTo=AHONY2VzigaP)\n",
        "\n",
        ">>[Criterio de evaluación](#scrollTo=0Uv0eAi_yqJM)\n",
        "\n",
        ">>[Tips](#scrollTo=pEjPYOxOw27M)\n",
        "\n",
        ">>[Carga de datos](#scrollTo=RzO8w1ysoR5P)\n",
        "\n",
        ">>[Transformación de datos](#scrollTo=1Ht6Zro3oje8)\n",
        "\n",
        ">>[Análisis y Visualizaciones](#scrollTo=-oZALeyloq56)\n",
        "\n",
        ">>[Conclusión](#scrollTo=q7ppUWSYpA7A)\n",
        "\n",
        ">>[Almacenamiento de resultados](#scrollTo=4nsbdrUgpL4k)\n",
        "\n"
      ]
    },
    {
      "cell_type": "markdown",
      "metadata": {
        "id": "AHONY2VzigaP"
      },
      "source": [
        "# Examen Diplomatura de Ciencias de Datos (Introducción a Python y Gestión de datos)\n",
        "\n",
        "A continuación, se detallan las indicaciones para la resolución del examen. Tenga a bien leer todas las instrucciones y no dude en consultar si tiene alguna duda.\n",
        "\n",
        "\n",
        "9. Para visualizaciones se debe usar la librería **matplotlib** solamente, \n",
        "al menos 3 visualizaciones deben estar realizadas directamente sobre **matplotlib**\n",
        "10. Los archivos a utilizar se encuentran almacenados en la siguiente URL:\n",
        "\n",
        "**Dataset:** \n",
        "\n",
        "https://github.com/al34n1x/DataScience/blob/master/100.Examen/2022/netflix_titles.csv\n",
        "\n",
        "\n",
        "---\n",
        "\n",
        "\n"
      ]
    },
    {
      "cell_type": "markdown",
      "metadata": {
        "id": "0Uv0eAi_yqJM"
      },
      "source": [
        "## Criterio de evaluación\n",
        "\n",
        "Se les brindará un archivo el cual debe ser importado utilizando los métodos conocidos. Luego se procederá a realizar procesos simples de limpieza, gestión y transformaciones de datos con el objetivo de encontrar patrones y realizar visualizaciones.\n",
        "\n",
        "Como parte del examen se evaluarán los siguientes conceptos:\n",
        "\n",
        "* Importar datos desde fuentes externas\n",
        "* Uso de funciones\n",
        "\n",
        "---\n",
        "\n"
      ]
    },
    {
      "cell_type": "markdown",
      "source": [
        "## Tips\n",
        "\n",
        "1. Escapar lineas de archivos. Parámetro **skiprows** en pandas\n",
        "\n",
        "```\n",
        "df = pd.read_csv('file',skiprows=N)\n",
        "```\n",
        "\n",
        "2. Escapar lineas de archivos utilizando librería **CSV**\n",
        "\n",
        "```\n",
        "for i in range(N):\n",
        "    CSVFile.next()\n",
        "reader = csv.DictReader(CSVFile)\n",
        "```"
      ],
      "metadata": {
        "id": "pEjPYOxOw27M"
      }
    },
    {
      "cell_type": "markdown",
      "metadata": {
        "id": "RzO8w1ysoR5P"
      },
      "source": [
        "## Carga de datos"
      ]
    },
    {
      "cell_type": "code",
      "metadata": {
        "id": "CxWDctuiiZGX"
      },
      "source": [
        "\n",
        "\n",
        "df = df_nuevo\n",
        "mask = (df['id_cliente'] == 1980467) & (df['mes_date'] == '2022-02-01')\n",
        "df.loc[mask]"
      ],
      "execution_count": null,
      "outputs": []
    },
    {
      "cell_type": "code",
      "source": [
        "\n",
        "\n",
        "# Creo un objeto DF \"df_temp\" donde alojar temporalmente los DF creados, para\n",
        "# posteriormente hacer una copia del mismo en \"df_nuevo\". \n",
        "# Luego, \"df_temp\" es vaciado para hacer un uso eficiente de la memoria.\n",
        "\n",
        "df_temp = pd.DataFrame()\n",
        "df_temp = pd.merge(left= clientes_df, right= transacciones_df, on= ['id_cliente'], how= 'right')\n",
        "df_nuevo = df_temp.copy(deep=True)\n",
        "df_temp = pd.DataFrame()\n",
        "\n",
        "df_nuevo"
      ],
      "metadata": {
        "id": "_119TwUduIhw"
      },
      "execution_count": null,
      "outputs": []
    },
    {
      "cell_type": "code",
      "metadata": {
        "id": "3__CVMilodU_"
      },
      "source": [
        "# Creo un nuevo DF y copio la muestra que seleccionamos con las cotizaciones de un determinado periodo de tiempo. Esta es nuestra muestra.\n",
        "fecha_inicio = FECHA_INICIO_MUESTRA\n",
        "df_muestra = tomar_muestra_df(df_especie, fecha_inicio)\n",
        "df = df_muestra.copy(deep=True)\n",
        "\n",
        "# Reinicio los indices del nuevo DF\n",
        "df = df.reset_index(drop=True)\n",
        "\n",
        "# Agrego un indice \"n\" en la columna 0\n",
        "df.insert(0, 'n', 1, allow_duplicates=False)\n",
        "df['n'] = df['n'].cumsum()\n"
      ],
      "execution_count": null,
      "outputs": []
    },
    {
      "cell_type": "code",
      "metadata": {
        "id": "qG4Wz0ulofCs"
      },
      "source": [
        "# Ordenamos el DF de forma descendente, reiniciamos index, calculamos porcentajes nominales y acumulados\n",
        "df = df_clientes_finanzas\n",
        "df.sort_values('frecuencia', ascending=False)"
      ],
      "execution_count": null,
      "outputs": []
    },
    {
      "cell_type": "code",
      "metadata": {
        "id": "WxfyKGVgofny"
      },
      "source": [
        "# Introduzca su código aquí"
      ],
      "execution_count": null,
      "outputs": []
    },
    {
      "cell_type": "markdown",
      "metadata": {
        "id": "1Ht6Zro3oje8"
      },
      "source": [
        "## Transformación de datos"
      ]
    },
    {
      "cell_type": "code",
      "metadata": {
        "id": "2Mm_EPq6oo1X"
      },
      "source": [
        "# Introduzca su código aquí"
      ],
      "execution_count": null,
      "outputs": []
    },
    {
      "cell_type": "code",
      "metadata": {
        "id": "R2ezdWulopZ7"
      },
      "source": [
        "# Introduzca su código aquí"
      ],
      "execution_count": null,
      "outputs": []
    },
    {
      "cell_type": "code",
      "metadata": {
        "id": "s7QhynVUopuU"
      },
      "source": [
        "# Introduzca su código aquí"
      ],
      "execution_count": null,
      "outputs": []
    },
    {
      "cell_type": "markdown",
      "metadata": {
        "id": "-oZALeyloq56"
      },
      "source": [
        "## Análisis y Visualizaciones\n",
        "\n",
        "*Ingrese su análisis aquí*\n"
      ]
    },
    {
      "cell_type": "code",
      "metadata": {
        "id": "C-sOWcJho2mD"
      },
      "source": [
        "# Ingrese su código de visualización aquí"
      ],
      "execution_count": null,
      "outputs": []
    },
    {
      "cell_type": "code",
      "metadata": {
        "id": "qaW4HTZFo-UB"
      },
      "source": [
        "# Ingrese su código de visualización aquí"
      ],
      "execution_count": null,
      "outputs": []
    },
    {
      "cell_type": "code",
      "metadata": {
        "id": "_awIuxWoo-o7"
      },
      "source": [
        "# Ingrese su código de visualización aquí"
      ],
      "execution_count": null,
      "outputs": []
    },
    {
      "cell_type": "markdown",
      "metadata": {
        "id": "q7ppUWSYpA7A"
      },
      "source": [
        "## Conclusión\n",
        "\n",
        "*Ingrese conclusión aquí*"
      ]
    },
    {
      "cell_type": "code",
      "metadata": {
        "id": "KJCmCpYIpJAB"
      },
      "source": [
        "# Ingrese código aquí"
      ],
      "execution_count": null,
      "outputs": []
    },
    {
      "cell_type": "markdown",
      "metadata": {
        "id": "4nsbdrUgpL4k"
      },
      "source": [
        "## Almacenamiento de resultados"
      ]
    },
    {
      "cell_type": "code",
      "metadata": {
        "id": "xfn-lOPKpPxf"
      },
      "source": [
        "# Ingrese código aquí"
      ],
      "execution_count": null,
      "outputs": []
    }
  ]
}