{
  "nbformat": 4,
  "nbformat_minor": 0,
  "metadata": {
    "colab": {
      "provenance": [],
      "collapsed_sections": [],
      "include_colab_link": true
    },
    "kernelspec": {
      "name": "python3",
      "display_name": "Python 3"
    },
    "gpuClass": "standard"
  },
  "cells": [
    {
      "cell_type": "markdown",
      "metadata": {
        "id": "view-in-github",
        "colab_type": "text"
      },
      "source": [
        "<a href=\"https://colab.research.google.com/github/JonaSiraQ/ToolBox-Python-DataScience/blob/main/Toolbox_SPARK.ipynb\" target=\"_parent\"><img src=\"https://colab.research.google.com/assets/colab-badge.svg\" alt=\"Open In Colab\"/></a>"
      ]
    },
    {
      "cell_type": "markdown",
      "metadata": {
        "id": "K1GZdTu_qma5",
        "colab_type": "toc"
      },
      "source": [
        ">[ToolBox de SPARK](#scrollTo=AHONY2VzigaP)\n",
        "\n",
        ">>[Creando VISTAS](#scrollTo=tGPQ5iU6iyb6)\n",
        "\n",
        ">>>[Vistas de tablas en Parquet](#scrollTo=WMhpvSrSjRs8)\n",
        "\n",
        ">>[Funciones utiles](#scrollTo=FQZaWr7CmMq7)\n",
        "\n"
      ]
    },
    {
      "cell_type": "markdown",
      "metadata": {
        "id": "AHONY2VzigaP"
      },
      "source": [
        "# ToolBox de SPARK\n",
        "\n",
        "\n"
      ]
    },
    {
      "cell_type": "markdown",
      "source": [
        "## Creando VISTAS"
      ],
      "metadata": {
        "id": "tGPQ5iU6iyb6"
      }
    },
    {
      "cell_type": "markdown",
      "source": [
        "### Vistas de tablas en Parquet\n",
        "\n",
        "\n",
        "En este caso, la informacion esta guardada en tablas en formato Parquet.\n",
        "\n",
        "Usamos Spark para crear una VISTA de cada tabla. \n",
        "\n",
        "Luego de crear las vistas, se pueden gestionar las tablas mediante lenguaje SQL (antes es imposible)."
      ],
      "metadata": {
        "id": "WMhpvSrSjRs8"
      }
    },
    {
      "cell_type": "code",
      "source": [
        "# Creamos una lista GLOBAL donde guardamos el nombre de cada vista creada.\n",
        "nombre_tablas_algo = []"
      ],
      "metadata": {
        "id": "xpJRtsU9izvg"
      },
      "execution_count": null,
      "outputs": []
    },
    {
      "cell_type": "code",
      "source": [
        "def crear_vista(ruta, nombre):\n",
        "  \"\"\" \n",
        "      Esta Function recibe el path y el nombre para crear una vista de una tabla \n",
        "      almacenada en formato Parquet.\n",
        "\n",
        "      Args:\n",
        "        ruta (string): Es el path de la tabla.\n",
        "        nombre (string): El nombre que le asignamos a la vista.\n",
        "\n",
        "      Actions:\n",
        "        Crea una vista llamada segun el arg 'nombre'.\n",
        "        nombre_tablas_algo: Lista con nombres de las distintas vistas creadas\n",
        "          durante la ejecucion.\n",
        "  \n",
        "      By @JonaSiracusaDev\n",
        "  \"\"\"\n",
        "\n",
        "  tabla = ruta\n",
        "  tabla = spark.read.format('parquet').load(tabla)\n",
        "  tabla.createOrReplaceTempView(nombre)\n",
        "  \n",
        "  # Guardamos el nombre de la vista que creamos.\n",
        "  nombre_tablas_algo.append(str(nombre))"
      ],
      "metadata": {
        "id": "q0Sh6tSlizn3"
      },
      "execution_count": null,
      "outputs": []
    },
    {
      "cell_type": "markdown",
      "source": [
        "Llamamos a la funcion y creamos la vista:"
      ],
      "metadata": {
        "id": "-cK2DXc3mjxB"
      }
    },
    {
      "cell_type": "code",
      "source": [
        "ruta = '/mnt/consumezone/Bolivia/Commercial/Dimensiones/DimClientesHist'\n",
        "nombre = 'historial'\n",
        "\n",
        "crear_vista(ruta, nombre)"
      ],
      "metadata": {
        "id": "-jZDlPuxmcke"
      },
      "execution_count": null,
      "outputs": []
    },
    {
      "cell_type": "markdown",
      "source": [],
      "metadata": {
        "id": "Eln0819EmLxo"
      }
    },
    {
      "cell_type": "code",
      "source": [],
      "metadata": {
        "id": "yFXL2psPjrYL"
      },
      "execution_count": null,
      "outputs": []
    },
    {
      "cell_type": "markdown",
      "source": [
        "## Funciones utiles\n",
        "\n",
        "Estas funciones son utiles a la hora de explorar y/o hacer chequeos de informacion dentro de las vistas ya creadas."
      ],
      "metadata": {
        "id": "FQZaWr7CmMq7"
      }
    },
    {
      "cell_type": "markdown",
      "source": [
        "Funcion que devuelve una lista con los nombres de las columnas de una tabla (vista ya creada). Se llama a la tabla a traves del nombre que se le asigno cuando se creo la vista."
      ],
      "metadata": {
        "id": "qRO68OWIoOCi"
      }
    },
    {
      "cell_type": "code",
      "source": [
        "def crear_lista_columnas(tabla):\n",
        "  \"\"\" \n",
        "      Esta funcion crea una lista con el nombre de las columnas de una vista ya \n",
        "      creada.\n",
        "      \n",
        "      Args:\n",
        "        tabla: Nombre de la vista de la tabla de la que se quieren conocer las\n",
        "          columnas.\n",
        "      \n",
        "      Returns:\n",
        "        lista_columns (list): Retorna una lista de Py con los nombres de las \n",
        "          columnas.\n",
        "      \n",
        "      By @JonaSiracusaDev\n",
        "  \"\"\"\n",
        "  \n",
        "  lista_columnas = []\n",
        "\n",
        "  query = \"SHOW COLUMNS IN \" + tabla\n",
        "  columnas = spark.sql(query)\n",
        "\n",
        "  nombres = columnas.rdd.map(lambda p: p.col_name).collect()\n",
        "  for col_name in nombres:\n",
        "      lista_columnas.append(col_name)\n",
        "      \n",
        "  return lista_columnas"
      ],
      "metadata": {
        "id": "Mf_LbCQjjrUn"
      },
      "execution_count": null,
      "outputs": []
    },
    {
      "cell_type": "markdown",
      "source": [],
      "metadata": {
        "id": "eyzNFghZmNOv"
      }
    },
    {
      "cell_type": "code",
      "source": [],
      "metadata": {
        "id": "2M1TqYPvjrR6"
      },
      "execution_count": null,
      "outputs": []
    },
    {
      "cell_type": "markdown",
      "source": [],
      "metadata": {
        "id": "LFCVM1LMmOGG"
      }
    },
    {
      "cell_type": "code",
      "source": [],
      "metadata": {
        "id": "Na-liPKejrO1"
      },
      "execution_count": null,
      "outputs": []
    },
    {
      "cell_type": "markdown",
      "source": [],
      "metadata": {
        "id": "aSkPuAoPmOhz"
      }
    },
    {
      "cell_type": "code",
      "source": [],
      "metadata": {
        "id": "5cvdHXB1jrL6"
      },
      "execution_count": null,
      "outputs": []
    },
    {
      "cell_type": "markdown",
      "source": [],
      "metadata": {
        "id": "eZTW6NQkmPkC"
      }
    },
    {
      "cell_type": "code",
      "metadata": {
        "id": "KJCmCpYIpJAB"
      },
      "source": [
        "# Ingrese código aquí"
      ],
      "execution_count": null,
      "outputs": []
    }
  ]
}