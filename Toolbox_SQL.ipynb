{
  "nbformat": 4,
  "nbformat_minor": 0,
  "metadata": {
    "colab": {
      "provenance": [],
      "collapsed_sections": [
        "LbYPFlPi0cVv",
        "HO8nv9bR1Uue",
        "zZPXSK2L9PJX",
        "bxnpfN0H-z60",
        "QgDE4RLdDC4H",
        "3xyAom-9DuwX",
        "HpHURmbLKG5Z",
        "PMH5WRi5K-m9",
        "WMhpvSrSjRs8",
        "FQZaWr7CmMq7"
      ],
      "include_colab_link": true
    },
    "kernelspec": {
      "name": "python3",
      "display_name": "Python 3"
    },
    "gpuClass": "standard"
  },
  "cells": [
    {
      "cell_type": "markdown",
      "metadata": {
        "id": "view-in-github",
        "colab_type": "text"
      },
      "source": [
        "<a href=\"https://colab.research.google.com/github/JonaSiraQ/ToolBox-Python-DataScience/blob/main/Toolbox_SQL.ipynb\" target=\"_parent\"><img src=\"https://colab.research.google.com/assets/colab-badge.svg\" alt=\"Open In Colab\"/></a>"
      ]
    },
    {
      "cell_type": "markdown",
      "metadata": {
        "id": "K1GZdTu_qma5",
        "colab_type": "toc"
      },
      "source": [
        ">[ToolBox SQL](#scrollTo=AHONY2VzigaP)\n",
        "\n",
        ">[SQL - Conceptos generales](#scrollTo=WHr-oSwd0MGm)\n",
        "\n",
        ">>[OPERADORES](#scrollTo=DRCnJwEwMWdN)\n",
        "\n",
        ">[DML (Data Manipulation Language)](#scrollTo=dniioirOynrZ)\n",
        "\n",
        ">>[Consultas SELECT](#scrollTo=tGPQ5iU6iyb6)\n",
        "\n",
        ">>>[Function de conexion y consulta](#scrollTo=LbYPFlPi0cVv)\n",
        "\n",
        ">>>[Consulta Schema](#scrollTo=HO8nv9bR1Uue)\n",
        "\n",
        ">>>[SELECT: proyectar datos](#scrollTo=zZPXSK2L9PJX)\n",
        "\n",
        ">>>[WHERE: filtrar datos](#scrollTo=bxnpfN0H-z60)\n",
        "\n",
        ">>>[ORDER BY: ordenando datos](#scrollTo=ZF9RbmciAv6Q)\n",
        "\n",
        ">>>[DISTINCT: no mostrar duplicados](#scrollTo=QgDE4RLdDC4H)\n",
        "\n",
        ">>>[GROUP BY y COUNT: agrupando y sumarizando](#scrollTo=3xyAom-9DuwX)\n",
        "\n",
        ">>>[HAVING: filtrando luego de agrupar.](#scrollTo=EdYI0aa6HyzC)\n",
        "\n",
        ">>>[UNION y UNION ALL: combinando consultas CON o SIN duplicados.](#scrollTo=HpHURmbLKG5Z)\n",
        "\n",
        ">>>[INTERSECT: combina consultas mostrando solo los resultados que COINCIDEN en ambos Select.](#scrollTo=PMH5WRi5K-m9)\n",
        "\n",
        ">>>[EXCEPT: sustraccion de resultados.](#scrollTo=UKckrW3sLk-h)\n",
        "\n",
        ">>[Consultas JOIN](#scrollTo=dNH4fGrNNXLG)\n",
        "\n",
        ">>>[JOIN o INNER JOIN](#scrollTo=MOCkH1DJYYut)\n",
        "\n",
        ">>>[OUTER JOINS](#scrollTo=hiD2IpqKSkwq)\n",
        "\n",
        ">>>[Vistas de tablas en Parquet](#scrollTo=WMhpvSrSjRs8)\n",
        "\n",
        ">>[Funciones utiles](#scrollTo=FQZaWr7CmMq7)\n",
        "\n"
      ]
    },
    {
      "cell_type": "markdown",
      "metadata": {
        "id": "AHONY2VzigaP"
      },
      "source": [
        "# ToolBox SQL\n",
        "\n",
        "\n"
      ]
    },
    {
      "cell_type": "markdown",
      "source": [
        "# SQL - Conceptos generales\n",
        "\n",
        "Las bases de datos SQL generalmente operan con el modelo cliente-servidor. \n",
        "Se cuenta con un servidor de BD donde se accede a la información y se ejecutan las instrucciones, y el/los cliente/s se conectan mediante una interfaz a través de la cual le envían peticiones y reciben las respuestas.\n",
        "\n",
        "\n",
        "SQLite es Open Source y se ha instalado por defecto con Python, es decir forma parte de la biblioteca estándar, no tenemos que instalar ningún módulo con pip. \n",
        "\n",
        "Al utilizar SQLite no hay necesidad de tener un servidor externo corriendo, lo que simplifica la implementación de los ejemplos que aquí veremos, ya que en caso contrario, deberíamos primero instalar un servidor de base de datos en nuestra computadora, crear las tablas allí y luego conectarnos usando un **conector** (todas las bases de datos proveen los conectores para todos los lenguajes de programación que soportan), por ejemplo si estamos programando en python y queremos conectarnos a una base de datos MySql, debemos descargar primero el conector que a día de hoy (9/6/22) está en la versión \"Connector/Python 8.0.29\": https://dev.mysql.com/downloads/connector/python/\n"
      ],
      "metadata": {
        "id": "WHr-oSwd0MGm"
      }
    },
    {
      "cell_type": "markdown",
      "source": [
        "## OPERADORES\n",
        "\n",
        "Se utilizan en las intrucciones WHERE y HAVING.\n",
        "\n",
        "\n"
      ],
      "metadata": {
        "id": "DRCnJwEwMWdN"
      }
    },
    {
      "cell_type": "markdown",
      "source": [
        "Hay variados operadores que se pueden utilizar.\n",
        "\n",
        "\n",
        "***De comparacion:***\n",
        "* =, <, >, >=, <=, <>\n",
        "\n",
        "***Matematicos:***\n",
        "* (), *, /, +, -\n",
        "\n",
        "***Logicos:***\n",
        "* BETWEEN a AND b        -- Rango de numeros, texto o fechas.\n",
        "* [NOT] IN (a, b, c)     -- Chequea si los valores estan contenidos en la consulta.\n",
        "* IS [NOT] NULL          -- Chequea si el valor es NULL (es igual a vacio, es distinto de un espacio).\n",
        "* [NOT] LIKE             -- Compara vs un texto.\n",
        "* [NOT] EXISTS           -- Chequea la existencia de valores.\n"
      ],
      "metadata": {
        "id": "KPeWcX2LNNHQ"
      }
    },
    {
      "cell_type": "markdown",
      "source": [
        "# DML (Data Manipulation Language)\n",
        "\n",
        "Este lenguaje permite realizar diferentes acciones a los datos que se encuentran en una base de datos.\n",
        "Permite recuperar, almacenar, modificar, eliminar, insertar y actualizar datos de una base de datos. Es lo que más a menudo vamos a estar utilizando.\n",
        "\n",
        "Operaciones soportadas por DML:\n",
        "- SELECT: Utilizado para consultar registros de la base de datos que satisfagan un criterio determinado.\n",
        "- INSERT: Utilizado para cargar de datos en la base de datos en una única operación.\n",
        "- UPDATE: Utilizado para modificar los valores de los campos y registros especificados\n",
        "- DELETE: Utilizado para eliminar registros de una tabla de una base de datos."
      ],
      "metadata": {
        "id": "dniioirOynrZ"
      }
    },
    {
      "cell_type": "markdown",
      "source": [
        "## Consultas SELECT\n",
        "\n",
        "\n",
        "La instrucción SELECT se utiliza para seleccionar datos de una base de datos.\n",
        "\n",
        "Los datos devueltos se almacenan en una tabla de resultados.\n",
        "\n",
        "Cómo se puede entonces refinar la selección de datos, con las siguientes instrucciones. Y atención porque deben respetar el orden de ejecución con que las escribí:\n",
        "\n",
        "- FROM        -- Specify the tables to be queried\n",
        "- WHERE       -- Filter the returned rows\n",
        "- GROUP BY    -- Aggregate rows\n",
        "- HAVING      -- Filter the aggregates\n",
        "- SELECT      -- Specify the columns to show\n",
        "- ORDER BY    -- Order the returned rows\n",
        "- LIMIT       -- Limit the returned rows\n",
        "\n",
        "Sería erróneo por ejemplo intentar ejecutar \"FROM Tabla SELECT ...\" o \"SELECT Where ... FROM Tabla\".\n",
        "\n",
        "Así mismo, algunos operadores van de la mano con otros, también sería erróneo ejecutar: \"SELECT * FROM Tabla HAVING\" .El HAVING requerirá primero haber hecho un agrupamiento.\n"
      ],
      "metadata": {
        "id": "tGPQ5iU6iyb6"
      }
    },
    {
      "cell_type": "markdown",
      "source": [
        "### Function de conexion y consulta\n",
        "\n",
        "Para hacer un poco más sencilla la codificación de ahora en adelante y no copiar todo el tiempo las mismas líneas de código, voy a definir una funcion que reciba una cadena de texto y se encarge de iniciar la conexión, hacer la query, cerrar la conexión y devolver el resultado."
      ],
      "metadata": {
        "id": "LbYPFlPi0cVv"
      }
    },
    {
      "cell_type": "code",
      "source": [
        "def select(query_a_ejecutar):\n",
        "  connection=sqlite3.connect(\"Diplo_DB.db\")\n",
        "  cursor = connection.cursor()\n",
        "  try: #Ya que está hago uso de try y catch para obtener una respuesta adecuada ante errores\n",
        "    cursor.execute(query_a_ejecutar)\n",
        "    result = cursor.fetchall()\n",
        "  except sqlite3.OperationalError:\n",
        "    print(\"Error al procesar la query\")\n",
        "    result = -1 #En caso de error devolverá el código de error -1\n",
        "  finally:\n",
        "    cursor.close()\n",
        "    connection.close()\n",
        "    return result"
      ],
      "metadata": {
        "id": "zex9qnWu0D2B"
      },
      "execution_count": null,
      "outputs": []
    },
    {
      "cell_type": "markdown",
      "source": [
        "### Consulta Schema\n",
        "\n",
        "Con esta consulta podemos ver una descripcion de las principales caracteristicas de las columnas de una tabla.\n",
        "\n",
        "Puede diferir para distintos DBMS."
      ],
      "metadata": {
        "id": "HO8nv9bR1Uue"
      }
    },
    {
      "cell_type": "code",
      "source": [
        "query = \"\"\"\n",
        "SELECT column_name, data_type, character_maximum_length\n",
        "FROM INFORMATION_SCHEMA.COLUMNS\n",
        "WHERE table_name = 'alumnos';\n",
        "\"\"\"\n",
        "\n",
        "print(query)"
      ],
      "metadata": {
        "id": "Lo9O3sYP1MMz"
      },
      "execution_count": null,
      "outputs": []
    },
    {
      "cell_type": "markdown",
      "source": [
        "SQLite:"
      ],
      "metadata": {
        "id": "5prPyIIb6ktP"
      }
    },
    {
      "cell_type": "code",
      "source": [
        "query = \"\"\"\n",
        ".schema 'alumnos'\n",
        "\"\"\""
      ],
      "metadata": {
        "id": "ou4Geifd0i3_"
      },
      "execution_count": null,
      "outputs": []
    },
    {
      "cell_type": "markdown",
      "source": [
        "ORACLE:"
      ],
      "metadata": {
        "id": "KAFnNw2N6z0e"
      }
    },
    {
      "cell_type": "code",
      "source": [
        "query = \"\"\"\n",
        "DESCRIBE 'alumnos'\n",
        "\"\"\""
      ],
      "metadata": {
        "id": "J5-qT92c629u"
      },
      "execution_count": null,
      "outputs": []
    },
    {
      "cell_type": "markdown",
      "source": [
        "### SELECT: proyectar datos"
      ],
      "metadata": {
        "id": "zZPXSK2L9PJX"
      }
    },
    {
      "cell_type": "code",
      "source": [
        "query = \"\"\"\n",
        "SELECT *\n",
        "FROM nombre_tabla;\n",
        "\"\"\""
      ],
      "metadata": {
        "id": "HD-ttz4Q620J"
      },
      "execution_count": null,
      "outputs": []
    },
    {
      "cell_type": "code",
      "source": [
        "query = \"\"\"\n",
        "SELECT col_1, col_2\n",
        "FROM nombre_tabla;\n",
        "\"\"\""
      ],
      "metadata": {
        "id": "UnTRTs02-XJd"
      },
      "execution_count": null,
      "outputs": []
    },
    {
      "cell_type": "markdown",
      "source": [
        "### WHERE: filtrar datos\n",
        "\n",
        "Aplica siempre a TODA la seleccion."
      ],
      "metadata": {
        "id": "bxnpfN0H-z60"
      }
    },
    {
      "cell_type": "markdown",
      "source": [
        "Filtro con una sola condicion:"
      ],
      "metadata": {
        "id": "zcFVUwG6_cF1"
      }
    },
    {
      "cell_type": "code",
      "source": [
        "query = \"\"\"\n",
        "SELECT col_1, col_2\n",
        "FROM nombre_tabla\n",
        "WHERE standard = 'ANSI';\n",
        "\"\"\"\n",
        "\n",
        "# La condicion del WHERE puede devolver: True, False o Unknown."
      ],
      "metadata": {
        "id": "rqTUbwKs_IvB"
      },
      "execution_count": null,
      "outputs": []
    },
    {
      "cell_type": "markdown",
      "source": [
        "Filtro con varias condiciones:"
      ],
      "metadata": {
        "id": "a4PHswp5_eWG"
      }
    },
    {
      "cell_type": "code",
      "source": [
        "query = \"\"\"\n",
        "SELECT col_1, col_2, col_3\n",
        "FROM nombre_tabla\n",
        "WHERE \n",
        "  year > 1970 AND\n",
        "  standard IS NULL;\n",
        "\"\"\"\n",
        "\n",
        "# NULL es un VACIO. Un espacio No es NULL, ni vacio."
      ],
      "metadata": {
        "id": "9ZYs7h6x_LUu"
      },
      "execution_count": null,
      "outputs": []
    },
    {
      "cell_type": "markdown",
      "source": [
        "### ORDER BY: ordenando datos\n",
        "\n",
        "Por default ordena de forma ASC."
      ],
      "metadata": {
        "id": "ZF9RbmciAv6Q"
      }
    },
    {
      "cell_type": "code",
      "source": [
        "query = \"\"\"\n",
        "SELECT col_1, col_2, col_3\n",
        "FROM nombre_tabla\n",
        "WHERE \n",
        "  year > 1970 AND\n",
        "  standard IS NULL\n",
        "ORDER BY col_2;\n",
        "\"\"\""
      ],
      "metadata": {
        "id": "P161DUeC_LMR"
      },
      "execution_count": null,
      "outputs": []
    },
    {
      "cell_type": "markdown",
      "source": [
        "Hacemos referncia a la columna nro. 2 que mencionamos en la consulta, es decir, col_2."
      ],
      "metadata": {
        "id": "sSahwuueBvzE"
      }
    },
    {
      "cell_type": "code",
      "source": [
        "query = \"\"\"\n",
        "SELECT col_1, col_2, col_3\n",
        "FROM nombre_tabla\n",
        "WHERE \n",
        "  year > 1970 AND\n",
        "  standard IS NULL\n",
        "ORDER BY 2;\n",
        "\"\"\""
      ],
      "metadata": {
        "id": "UuwkYdt2BkA0"
      },
      "execution_count": null,
      "outputs": []
    },
    {
      "cell_type": "markdown",
      "source": [
        "Ordenamos de forma DESC."
      ],
      "metadata": {
        "id": "078iO_5OCJNE"
      }
    },
    {
      "cell_type": "code",
      "source": [
        "query = \"\"\"\n",
        "SELECT col_1, col_2, col_3\n",
        "FROM nombre_tabla\n",
        "WHERE \n",
        "  year > 1970 AND\n",
        "  standard IS NULL\n",
        "ORDER BY \n",
        "  col_2 DESC;\n",
        "\"\"\""
      ],
      "metadata": {
        "id": "hlLEU__a-XFc"
      },
      "execution_count": null,
      "outputs": []
    },
    {
      "cell_type": "markdown",
      "source": [
        "Combinamos distintas columnas para ordenar."
      ],
      "metadata": {
        "id": "QscdsX4mCQ6P"
      }
    },
    {
      "cell_type": "code",
      "source": [
        "query = \"\"\"\n",
        "SELECT col_1, col_2, col_3\n",
        "FROM nombre_tabla\n",
        "WHERE \n",
        "  year > 1970 AND\n",
        "  standard IS NULL\n",
        "ORDER BY \n",
        "  col_2 DESC,\n",
        "  col_3 ASC;\n",
        "\"\"\""
      ],
      "metadata": {
        "id": "QVb0BqwU_NDh"
      },
      "execution_count": null,
      "outputs": []
    },
    {
      "cell_type": "markdown",
      "source": [
        "### DISTINCT: no mostrar duplicados"
      ],
      "metadata": {
        "id": "QgDE4RLdDC4H"
      }
    },
    {
      "cell_type": "code",
      "source": [
        "query = \"\"\"\n",
        "SELECT DISTINCT (col_1)\n",
        "FROM nombre_tabla;\n",
        "\"\"\""
      ],
      "metadata": {
        "id": "swzSwyFn_M2Y"
      },
      "execution_count": null,
      "outputs": []
    },
    {
      "cell_type": "markdown",
      "source": [
        "### GROUP BY y COUNT: agrupando y sumarizando\n",
        "\n",
        "Agrupamos en subsets que hacen match en 1 o mas columnas."
      ],
      "metadata": {
        "id": "3xyAom-9DuwX"
      }
    },
    {
      "cell_type": "code",
      "source": [
        "query = \"\"\"\n",
        "SELECT \n",
        "  col_1, \n",
        "  COUNT(col_1)\n",
        "FROM nombre_tabla\n",
        "GROUP BY\n",
        "  col_1;\n",
        "\"\"\"\n",
        "\n",
        "# Se va a estar sumarizando por la columna especificada en el GROUP BY (col_1)."
      ],
      "metadata": {
        "id": "tPrUZ86pHKux"
      },
      "execution_count": null,
      "outputs": []
    },
    {
      "cell_type": "markdown",
      "source": [
        "Podemos asignar un alias."
      ],
      "metadata": {
        "id": "hKluBVzYGw0O"
      }
    },
    {
      "cell_type": "code",
      "source": [
        "query = \"\"\"\n",
        "SELECT \n",
        "  col_1, \n",
        "  COUNT(col_1) AS suma\n",
        "FROM nombre_tabla\n",
        "GROUP BY\n",
        "  col_1;\n",
        "\"\"\""
      ],
      "metadata": {
        "id": "FHpV19_MEkJw"
      },
      "execution_count": null,
      "outputs": []
    },
    {
      "cell_type": "markdown",
      "source": [
        "Podemos mostrar otras columnas tambien."
      ],
      "metadata": {
        "id": "TpXKtA47Hixh"
      }
    },
    {
      "cell_type": "code",
      "source": [
        "query = \"\"\"\n",
        "SELECT \n",
        "  col_1, \n",
        "  col_2,\n",
        "  COUNT(*)\n",
        "FROM nombre_tabla\n",
        "GROUP BY\n",
        "  col_1;\n",
        "\"\"\"\n",
        "\n",
        "# Se va a estar sumarizando por la columna especificada en el GROUP BY (col_1)."
      ],
      "metadata": {
        "id": "DTkQmeyU_Mso"
      },
      "execution_count": null,
      "outputs": []
    },
    {
      "cell_type": "markdown",
      "source": [
        "### HAVING: filtrando luego de agrupar.\n",
        "\n",
        "Aplica SOLO despues del GROUP BY."
      ],
      "metadata": {
        "id": "EdYI0aa6HyzC"
      }
    },
    {
      "cell_type": "code",
      "source": [
        "query = \"\"\"\n",
        "SELECT \n",
        "  col_1, \n",
        "  COUNT(col_1) AS suma\n",
        "FROM nombre_tabla\n",
        "GROUP BY\n",
        "  col_1\n",
        "HAVING\n",
        "  COUNT(col_1) > 4;\n",
        "\"\"\"\n",
        "\n",
        "# Se va a estar sumarizando por la columna especificada en el GROUP BY (col_1)."
      ],
      "metadata": {
        "id": "yHSKa3ejIzFU"
      },
      "execution_count": null,
      "outputs": []
    },
    {
      "cell_type": "code",
      "source": [
        "query = \"\"\"\n",
        "SELECT \n",
        "  col_1, \n",
        "  col_2,\n",
        "  col_3\n",
        "FROM nombre_tabla\n",
        "GROUP BY\n",
        "  col_3,\n",
        "  col_2,\n",
        "  col_1\n",
        "HAVING\n",
        "  col_3 < 1980;\n",
        "\"\"\""
      ],
      "metadata": {
        "id": "P2ifRtelHyU_"
      },
      "execution_count": null,
      "outputs": []
    },
    {
      "cell_type": "markdown",
      "source": [
        "### UNION y UNION ALL: combinando consultas CON o SIN duplicados.\n",
        "\n",
        "Similar a la \"union de conjuntos\"."
      ],
      "metadata": {
        "id": "HpHURmbLKG5Z"
      }
    },
    {
      "cell_type": "markdown",
      "source": [
        "UNION: NO muestra los duplicados."
      ],
      "metadata": {
        "id": "sAzxgxaFKZT5"
      }
    },
    {
      "cell_type": "code",
      "source": [
        "query = \"\"\"\n",
        "SELECT \n",
        "  col_1, \n",
        "  col_2\n",
        "FROM nombre_tabla_1\n",
        "\n",
        "UNION\n",
        "\n",
        "SELECT \n",
        "  col_1, \n",
        "  col_2\n",
        "FROM nombre_tabla_2;\n",
        "\"\"\""
      ],
      "metadata": {
        "id": "VTH6UWPGHySc"
      },
      "execution_count": null,
      "outputs": []
    },
    {
      "cell_type": "markdown",
      "source": [
        "UNION ALL: muestra los duplicados."
      ],
      "metadata": {
        "id": "ZvZ-wBF2KihR"
      }
    },
    {
      "cell_type": "code",
      "source": [
        "query = \"\"\"\n",
        "SELECT \n",
        "  col_1, \n",
        "  col_2\n",
        "FROM nombre_tabla_1\n",
        "\n",
        "UNION ALL\n",
        "\n",
        "SELECT \n",
        "  col_1, \n",
        "  col_2\n",
        "FROM nombre_tabla_2;\n",
        "\"\"\""
      ],
      "metadata": {
        "id": "FKKsx-tGHyPc"
      },
      "execution_count": null,
      "outputs": []
    },
    {
      "cell_type": "markdown",
      "source": [
        "### INTERSECT: combina consultas mostrando solo los resultados que COINCIDEN en ambos Select.\n",
        "\n",
        "Similar a la \"interseccion de conjuntos\"."
      ],
      "metadata": {
        "id": "PMH5WRi5K-m9"
      }
    },
    {
      "cell_type": "code",
      "source": [
        "query = \"\"\"\n",
        "SELECT \n",
        "  col_1, \n",
        "  col_2\n",
        "FROM nombre_tabla_1\n",
        "\n",
        "INTERSECT\n",
        "\n",
        "SELECT \n",
        "  col_1, \n",
        "  col_2\n",
        "FROM nombre_tabla_2;\n",
        "\"\"\""
      ],
      "metadata": {
        "id": "b5IFmnPvHyMZ"
      },
      "execution_count": null,
      "outputs": []
    },
    {
      "cell_type": "markdown",
      "source": [
        "### EXCEPT: sustraccion de resultados.\n",
        "\n",
        "Sustrae los resultados del SEGUNDO SELECT a los del primer select, o viceversa."
      ],
      "metadata": {
        "id": "UKckrW3sLk-h"
      }
    },
    {
      "cell_type": "code",
      "source": [
        "query = \"\"\"\n",
        "SELECT \n",
        "  col_1, \n",
        "  col_2\n",
        "FROM nombre_tabla_1\n",
        "\n",
        "EXCEPT\n",
        "\n",
        "SELECT \n",
        "  col_1, \n",
        "  col_2\n",
        "FROM nombre_tabla_2;\n",
        "\"\"\""
      ],
      "metadata": {
        "id": "ZAsPfS2fEkEU"
      },
      "execution_count": null,
      "outputs": []
    },
    {
      "cell_type": "markdown",
      "source": [
        "## Consultas JOIN\n",
        "\n",
        "Combinan filas de 2 o mas tablas. Se basan en la relacion entre cierts columnas de las tablas.\n",
        "\n",
        "1) Identificar la relacion entre las tablas. Es decir, las columnas de cada una de las tablas que se van a usar para linkear las tablas.\n",
        "\n",
        "2) Ver las PK y FK de las tablas que necesito."
      ],
      "metadata": {
        "id": "dNH4fGrNNXLG"
      }
    },
    {
      "cell_type": "markdown",
      "source": [
        "### JOIN o INNER JOIN\n",
        "\n",
        "Combina las filas de 2 o más tablas.\n",
        "\n",
        "Muestra SOLO LOS MATCHES de la COLUMNA en común.\n",
        "\n",
        "JOIN ON e INNER JOIN ON son equivalentes.\n",
        "\n",
        "![image.png](data:image/png;base64,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)"
      ],
      "metadata": {
        "id": "MOCkH1DJYYut"
      }
    },
    {
      "cell_type": "markdown",
      "source": [
        "1) Crea una tabla con todas las columnas.\n",
        "\n",
        "2) Trae solo las filas que cumplen la condición."
      ],
      "metadata": {
        "id": "6p8jXWQlR4uM"
      }
    },
    {
      "cell_type": "code",
      "source": [
        "query = \"\"\"\n",
        "SELECT\n",
        "  a.col_1, \n",
        "  a.col_2,\n",
        "  b.col_1,\n",
        "  b.col_2\n",
        "FROM \n",
        "  tabla_1 a  -- Alias de tabla_1\n",
        "INNER JOIN \n",
        "  tabla_2 b  -- Alias de tabla_2\n",
        "ON a.col_1 = b.col_2 \n",
        "\"\"\"\n",
        "\n",
        "# Muestra las filas de las columnas solicitadas DONDE los valores de a.col_1 = b.col_2 \n",
        "# son iguales."
      ],
      "metadata": {
        "id": "fBRmlr0XIRyM"
      },
      "execution_count": null,
      "outputs": []
    },
    {
      "cell_type": "markdown",
      "source": [
        "### OUTER JOINS\n",
        "\n"
      ],
      "metadata": {
        "id": "hiD2IpqKSkwq"
      }
    },
    {
      "cell_type": "code",
      "source": [],
      "metadata": {
        "id": "30OTlnAjIRvm"
      },
      "execution_count": null,
      "outputs": []
    },
    {
      "cell_type": "code",
      "source": [],
      "metadata": {
        "id": "-Teg3VVRIRts"
      },
      "execution_count": null,
      "outputs": []
    },
    {
      "cell_type": "code",
      "source": [],
      "metadata": {
        "id": "ec1k7qpfIRrG"
      },
      "execution_count": null,
      "outputs": []
    },
    {
      "cell_type": "code",
      "source": [],
      "metadata": {
        "id": "V8pkCl4NIRnd"
      },
      "execution_count": null,
      "outputs": []
    },
    {
      "cell_type": "code",
      "source": [],
      "metadata": {
        "id": "or7vXHlkIRi7"
      },
      "execution_count": null,
      "outputs": []
    },
    {
      "cell_type": "code",
      "source": [],
      "metadata": {
        "id": "9X3z4f_nEj_w"
      },
      "execution_count": null,
      "outputs": []
    },
    {
      "cell_type": "code",
      "source": [],
      "metadata": {
        "id": "pj_B2OXO0DxC"
      },
      "execution_count": null,
      "outputs": []
    },
    {
      "cell_type": "code",
      "source": [
        "connection.execute(\"\"\"CREATE TABLE Facturas (\n",
        "                            FacturaID INTEGER PRIMARY KEY AUTOINCREMENT NOT NULL,\n",
        "                            ClienteID INTEGER NOT NULL,\n",
        "                            Fecha TEXT NOT NULL,\n",
        "                            FOREIGN KEY (ClienteID) REFERENCES Clientes (ClienteID) \n",
        "                        )\"\"\")\n",
        "\n",
        "query = \"SHOW COLUMNS IN \" + tabla\n",
        "columnas = spark.sql(query)"
      ],
      "metadata": {
        "id": "l8EcgKn80i_D"
      },
      "execution_count": null,
      "outputs": []
    },
    {
      "cell_type": "code",
      "source": [],
      "metadata": {
        "id": "uVCp7zr30DtP"
      },
      "execution_count": null,
      "outputs": []
    },
    {
      "cell_type": "code",
      "source": [],
      "metadata": {
        "id": "jQwdNWx30DpM"
      },
      "execution_count": null,
      "outputs": []
    },
    {
      "cell_type": "markdown",
      "source": [
        "### Vistas de tablas en Parquet\n",
        "\n",
        "\n",
        "En este caso, la informacion esta guardada en tablas en formato Parquet.\n",
        "\n",
        "Usamos Spark para crear una VISTA de cada tabla. \n",
        "\n",
        "Luego de crear las vistas, se pueden gestionar las tablas mediante lenguaje SQL (antes es imposible)."
      ],
      "metadata": {
        "id": "WMhpvSrSjRs8"
      }
    },
    {
      "cell_type": "code",
      "source": [
        "# Creamos una lista GLOBAL donde guardamos el nombre de cada vista creada.\n",
        "nombre_tablas_algo = []"
      ],
      "metadata": {
        "id": "xpJRtsU9izvg"
      },
      "execution_count": null,
      "outputs": []
    },
    {
      "cell_type": "code",
      "source": [
        "def crear_vista(ruta, nombre):\n",
        "  \"\"\" \n",
        "      Esta Function recibe el path y el nombre para crear una vista de una tabla \n",
        "      almacenada en formato Parquet.\n",
        "\n",
        "      Args:\n",
        "        ruta (string): Es el path de la tabla.\n",
        "        nombre (string): El nombre que le asignamos a la vista.\n",
        "\n",
        "      Actions:\n",
        "        Crea una vista llamada segun el arg 'nombre'.\n",
        "        nombre_tablas_algo: Lista con nombres de las distintas vistas creadas\n",
        "          durante la ejecucion.\n",
        "  \n",
        "      By @JonaSiracusaDev\n",
        "  \"\"\"\n",
        "\n",
        "  tabla = ruta\n",
        "  tabla = spark.read.format('parquet').load(tabla)\n",
        "  tabla.createOrReplaceTempView(nombre)\n",
        "  \n",
        "  # Guardamos el nombre de la vista que creamos.\n",
        "  nombre_tablas_algo.append(str(nombre))"
      ],
      "metadata": {
        "id": "q0Sh6tSlizn3"
      },
      "execution_count": null,
      "outputs": []
    },
    {
      "cell_type": "markdown",
      "source": [
        "Llamamos a la funcion y creamos la vista:"
      ],
      "metadata": {
        "id": "-cK2DXc3mjxB"
      }
    },
    {
      "cell_type": "code",
      "source": [
        "ruta = '/mnt/consumezone/Bolivia/Commercial/Dimensiones/DimClientesHist'\n",
        "nombre = 'historial'\n",
        "\n",
        "crear_vista(ruta, nombre)"
      ],
      "metadata": {
        "id": "-jZDlPuxmcke"
      },
      "execution_count": null,
      "outputs": []
    },
    {
      "cell_type": "markdown",
      "source": [],
      "metadata": {
        "id": "Eln0819EmLxo"
      }
    },
    {
      "cell_type": "code",
      "source": [],
      "metadata": {
        "id": "yFXL2psPjrYL"
      },
      "execution_count": null,
      "outputs": []
    },
    {
      "cell_type": "markdown",
      "source": [
        "## Funciones utiles\n",
        "\n",
        "Estas funciones son utiles a la hora de explorar y/o hacer chequeos de informacion dentro de las vistas ya creadas."
      ],
      "metadata": {
        "id": "FQZaWr7CmMq7"
      }
    },
    {
      "cell_type": "markdown",
      "source": [
        "Funcion que devuelve una lista con los nombres de las columnas de una tabla (vista ya creada). Se llama a la tabla a traves del nombre que se le asigno cuando se creo la vista."
      ],
      "metadata": {
        "id": "qRO68OWIoOCi"
      }
    },
    {
      "cell_type": "code",
      "source": [
        "def crear_lista_columnas(tabla):\n",
        "  \"\"\" Esta funcion crea una lista con el nombre de las columnas de una vista ya \n",
        "      creada.\n",
        "      \n",
        "      Args:\n",
        "        tabla: Nombre de la vista de la tabla de la que se quieren conocer las\n",
        "          columnas.\n",
        "      \n",
        "      Returns:\n",
        "        lista_columns (list): Retorna una lista de Py con los nombres de las \n",
        "          columnas.\n",
        "      \n",
        "      By @JonaSiracusaDev\n",
        "  \"\"\"\n",
        "  \n",
        "  lista_columnas = []\n",
        "\n",
        "  query = \"SHOW COLUMNS IN \" + tabla\n",
        "  columnas = spark.sql(query)\n",
        "\n",
        "  nombres = columnas.rdd.map(lambda p: p.col_name).collect()\n",
        "  for col_name in nombres:\n",
        "      lista_columnas.append(col_name)\n",
        "      \n",
        "  return lista_columnas"
      ],
      "metadata": {
        "id": "Mf_LbCQjjrUn"
      },
      "execution_count": null,
      "outputs": []
    },
    {
      "cell_type": "markdown",
      "source": [],
      "metadata": {
        "id": "eyzNFghZmNOv"
      }
    },
    {
      "cell_type": "code",
      "source": [],
      "metadata": {
        "id": "2M1TqYPvjrR6"
      },
      "execution_count": null,
      "outputs": []
    },
    {
      "cell_type": "markdown",
      "source": [],
      "metadata": {
        "id": "LFCVM1LMmOGG"
      }
    },
    {
      "cell_type": "code",
      "source": [],
      "metadata": {
        "id": "Na-liPKejrO1"
      },
      "execution_count": null,
      "outputs": []
    },
    {
      "cell_type": "markdown",
      "source": [],
      "metadata": {
        "id": "aSkPuAoPmOhz"
      }
    },
    {
      "cell_type": "code",
      "source": [],
      "metadata": {
        "id": "5cvdHXB1jrL6"
      },
      "execution_count": null,
      "outputs": []
    },
    {
      "cell_type": "markdown",
      "source": [],
      "metadata": {
        "id": "eZTW6NQkmPkC"
      }
    },
    {
      "cell_type": "code",
      "metadata": {
        "id": "KJCmCpYIpJAB"
      },
      "source": [
        "# Ingrese código aquí"
      ],
      "execution_count": null,
      "outputs": []
    }
  ]
}