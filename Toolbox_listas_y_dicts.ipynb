{
  "nbformat": 4,
  "nbformat_minor": 0,
  "metadata": {
    "colab": {
      "provenance": [],
      "collapsed_sections": [],
      "include_colab_link": true
    },
    "kernelspec": {
      "name": "python3",
      "display_name": "Python 3"
    },
    "gpuClass": "standard"
  },
  "cells": [
    {
      "cell_type": "markdown",
      "metadata": {
        "id": "view-in-github",
        "colab_type": "text"
      },
      "source": [
        "<a href=\"https://colab.research.google.com/github/JonaSiraQ/ToolBox-Python-DataScience/blob/main/Toolbox_listas_y_dicts.ipynb\" target=\"_parent\"><img src=\"https://colab.research.google.com/assets/colab-badge.svg\" alt=\"Open In Colab\"/></a>"
      ]
    },
    {
      "cell_type": "markdown",
      "metadata": {
        "id": "K1GZdTu_qma5",
        "colab_type": "toc"
      },
      "source": [
        ">[ToolBox de Estructuras de Datos](#scrollTo=AHONY2VzigaP)\n",
        "\n",
        ">>[Listas](#scrollTo=tGPQ5iU6iyb6)\n",
        "\n",
        ">>>[Combinación de elementos](#scrollTo=WMhpvSrSjRs8)\n",
        "\n",
        ">>>[Combinar 2 listas, sin repetidos](#scrollTo=FsgSYeSKjYZX)\n",
        "\n",
        ">>[Diccionarios](#scrollTo=lIjR6f5NjpJ8)\n",
        "\n",
        ">>>[Agrupar por los valores](#scrollTo=9cun3vIljp7L)\n",
        "\n",
        ">>[Conclusión](#scrollTo=q7ppUWSYpA7A)\n",
        "\n"
      ]
    },
    {
      "cell_type": "markdown",
      "metadata": {
        "id": "AHONY2VzigaP"
      },
      "source": [
        "# ToolBox de Estructuras de Datos\n",
        "\n",
        "\n"
      ]
    },
    {
      "cell_type": "markdown",
      "source": [
        "## Listas"
      ],
      "metadata": {
        "id": "tGPQ5iU6iyb6"
      }
    },
    {
      "cell_type": "markdown",
      "source": [
        "###Combinación de elementos\n",
        "\n",
        "Lo hacemos dentro de una Función de Clase."
      ],
      "metadata": {
        "id": "WMhpvSrSjRs8"
      }
    },
    {
      "cell_type": "code",
      "source": [
        "class IceCreamMachine:\n",
        "\n",
        "    def __init__(self, ingredients, toppings):\n",
        "        self.ingredients = ingredients\n",
        "        self.toppings = toppings\n",
        "\n",
        "    def scoops(self):\n",
        "        list_scoops = []\n",
        "        list_ings = self.ingredients\n",
        "        list_tops = self.toppings\n",
        "\n",
        "        for elem in list_ings:\n",
        "            for top in list_tops:\n",
        "                list_scoops.append([elem, top])\n",
        "\n",
        "        return list_scoops\n",
        "\n",
        "\n",
        "if __name__ == \"__main__\":\n",
        "    machine = IceCreamMachine([\"vanilla\", \"chocolate\"], [\"chocolate sauce\"])\n",
        "    print(machine.scoops())  # should print: [['vanilla', 'chocolate sauce'], ['chocolate', 'chocolate sauce']]"
      ],
      "metadata": {
        "id": "xpJRtsU9izvg"
      },
      "execution_count": null,
      "outputs": []
    },
    {
      "cell_type": "markdown",
      "source": [
        "### Combinar 2 listas, sin repetidos\n",
        "\n",
        "Usamos ***set()*** y ***list()***."
      ],
      "metadata": {
        "id": "FsgSYeSKjYZX"
      }
    },
    {
      "cell_type": "code",
      "source": [
        "def unique_names(names1, names2):\n",
        "    # Eliminamos los repetidos de las listas, y los volvemos a convertir en un \n",
        "    # objeto lista.\n",
        "    set1 = set(names1)\n",
        "    names1 = list(set1)\n",
        "\n",
        "    set2 = set(names2)\n",
        "    names2 = list(set2)\n",
        "\n",
        "    list_unique_names = []\n",
        "    # Agrego la primer lista a la lista que se retorna.\n",
        "    list_unique_names.extend(names1)\n",
        "\n",
        "    # Chequeo si los elementos de las lista 2 NO se repite en la ilsta 1.\n",
        "    for name2 in names2:\n",
        "        i = 0\n",
        "        cont = 0\n",
        "        items = len(list_unique_names)\n",
        "\n",
        "        while i < items:\n",
        "            if name2 != list_unique_names[i]:\n",
        "                cont += 1\n",
        "            i += 1\n",
        "\n",
        "        # Si cont e items son iguales, es porque el elem name2 siempre fue \n",
        "        # distinto a todos los que ya había en list_unique_names.\n",
        "        if cont == items:\n",
        "            list_unique_names.append(name2)\n",
        "\n",
        "    return list_unique_names\n",
        "\n",
        "if __name__ == \"__main__\":\n",
        "    names1 = [\"Ava\", \"Emma\", \"Olivia\"]\n",
        "    names2 = [\"Olivia\", \"Sophia\", \"Emma\"]\n",
        "    print(unique_names(names1, names2)) # should print Ava, Emma, Olivia, Sophia"
      ],
      "metadata": {
        "id": "OhZU_-Deizr9"
      },
      "execution_count": null,
      "outputs": []
    },
    {
      "cell_type": "code",
      "source": [],
      "metadata": {
        "id": "q0Sh6tSlizn3"
      },
      "execution_count": null,
      "outputs": []
    },
    {
      "cell_type": "code",
      "source": [],
      "metadata": {
        "id": "LK4ySCZ_izhS"
      },
      "execution_count": null,
      "outputs": []
    },
    {
      "cell_type": "markdown",
      "source": [
        "## Diccionarios"
      ],
      "metadata": {
        "id": "lIjR6f5NjpJ8"
      }
    },
    {
      "cell_type": "markdown",
      "source": [
        "### Agrupar por los valores"
      ],
      "metadata": {
        "id": "9cun3vIljp7L"
      }
    },
    {
      "cell_type": "code",
      "source": [
        "def group_by_owners(files):\n",
        "    group_by_owner = {}\n",
        "\n",
        "    for values in files.values():\n",
        "        owner_files = []\n",
        "        owner = ''\n",
        "        owner = values\n",
        "        for fil, own in files.items():\n",
        "            if owner == own:\n",
        "                owner_files.append(fil)\n",
        "            else:\n",
        "                continue\n",
        "        group_by_owner[owner] = owner_files\n",
        "\n",
        "    return group_by_owner\n",
        "\n",
        "\n",
        "if __name__ == \"__main__\":\n",
        "    files = {\n",
        "        'Input.txt': 'Randy',\n",
        "        'Code.py': 'Stan',\n",
        "        'Output.txt': 'Randy'\n",
        "    }\n",
        "    print(group_by_owners(files))"
      ],
      "metadata": {
        "id": "SZ3dEwQujqUN"
      },
      "execution_count": null,
      "outputs": []
    },
    {
      "cell_type": "markdown",
      "source": [],
      "metadata": {
        "id": "Eln0819EmLxo"
      }
    },
    {
      "cell_type": "code",
      "source": [],
      "metadata": {
        "id": "yFXL2psPjrYL"
      },
      "execution_count": null,
      "outputs": []
    },
    {
      "cell_type": "markdown",
      "source": [],
      "metadata": {
        "id": "FQZaWr7CmMq7"
      }
    },
    {
      "cell_type": "code",
      "source": [],
      "metadata": {
        "id": "Mf_LbCQjjrUn"
      },
      "execution_count": null,
      "outputs": []
    },
    {
      "cell_type": "markdown",
      "source": [],
      "metadata": {
        "id": "eyzNFghZmNOv"
      }
    },
    {
      "cell_type": "code",
      "source": [],
      "metadata": {
        "id": "2M1TqYPvjrR6"
      },
      "execution_count": null,
      "outputs": []
    },
    {
      "cell_type": "markdown",
      "source": [],
      "metadata": {
        "id": "LFCVM1LMmOGG"
      }
    },
    {
      "cell_type": "code",
      "source": [],
      "metadata": {
        "id": "Na-liPKejrO1"
      },
      "execution_count": null,
      "outputs": []
    },
    {
      "cell_type": "markdown",
      "source": [],
      "metadata": {
        "id": "aSkPuAoPmOhz"
      }
    },
    {
      "cell_type": "code",
      "source": [],
      "metadata": {
        "id": "5cvdHXB1jrL6"
      },
      "execution_count": null,
      "outputs": []
    },
    {
      "cell_type": "markdown",
      "source": [],
      "metadata": {
        "id": "eZTW6NQkmPkC"
      }
    },
    {
      "cell_type": "code",
      "source": [],
      "metadata": {
        "id": "QFMnbl-CjrIp"
      },
      "execution_count": null,
      "outputs": []
    },
    {
      "cell_type": "markdown",
      "metadata": {
        "id": "q7ppUWSYpA7A"
      },
      "source": [
        "## Conclusión"
      ]
    },
    {
      "cell_type": "code",
      "metadata": {
        "id": "KJCmCpYIpJAB"
      },
      "source": [
        "# Ingrese código aquí"
      ],
      "execution_count": null,
      "outputs": []
    }
  ]
}